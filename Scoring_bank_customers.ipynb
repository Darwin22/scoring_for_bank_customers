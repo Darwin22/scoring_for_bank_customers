{
 "cells": [
  {
   "cell_type": "markdown",
   "metadata": {},
   "source": [
    "## Introduction\n",
    "\n",
    "\n",
    "Customers of a bank have been segmented according to their historical operations and their background. In the objective of optimizing its development,the bank wish to move some less loyal customers to the most loyal segment. This project consist in building a score to predict the 1000 customers who are more likely to do this transition. The bank will then contact them to offer some incentives to accelerate the process. \n",
    "\n",
    "\n",
    "We have a database with thousands of customers and several variables describing their behaviour. Here are some important variables in the database (This is not an exhaustive list of the variables). \n",
    "\n",
    "  * Id_client: Id of the customer\n",
    "  * CIBLE : The target variable. The customer have switched to the more favorable segment (0 = No/ 1= Yes)\n",
    "  * Products or services withold:\n",
    "     + CDD : Checking account for daily operations\n",
    "     + LVA, LVB, LDD, LEP : Saving accounts available any time for some operations\n",
    "     + PEL, CTO, PEA, ASV : Savings invest in less liquid assets (shares, bonds, CD...).\n",
    "     + Loans \n",
    "  * Activities on the products:\n",
    "     + Current : Amount of money available on the product\n",
    "     + Deposit\n",
    "     + Withdrawal\n",
    "     \n",
    "     \n",
    "The complete description of all the variables in the database is in the excel file \"Description Base Scoring Exam\".\n",
    "We have two files containing the data. One has the target variable \"CIBLE\". This is the one we will use to train our models and pick the best one. Then  the order file has all the variables except the variable 'CIBLE'. It is there for the application of the scoring model we chose. \n",
    "\n",
    "\n",
    "We will build the scores by estimating, for every customers, the probability to switch from the least loyal segment to the more favorable segment using a statistical model. \n",
    "\n",
    "\n",
    "Usually, a scoring model is built by following these steps:\n",
    "\n",
    "* Construction of the database\n",
    "   + Definition of the event to be studied and the eligible population\n",
    "   + Definition of the study period\n",
    "   + Data cleaning and construction of predictive variables\n",
    "   + Separation of training set and validation set\n",
    "   + Optimizing the predictive variables\n",
    "   \n",
    "* Modelling\n",
    "   + Building multiple models\n",
    "   + Choice of the \"best\" model\n",
    "   + Interpretation of the chosen model\n",
    "   \n",
    "In our case, some stages of the database's construction have already been done:\n",
    "\n",
    "* The event to be predicted is already materialized by the target variable \"CIBLE\" in the database. It takes values:\n",
    "   + 0 if the customer has not changed segment\n",
    "   + 1 if the customer has changed segment\n",
    "   \n",
    "* The study period has already been taken into account and all the raw variables have been included with respect to an optimal reference date. \n",
    "\n",
    "Therefore, we will start with the \"Data cleaning and construction of explanatory variables\" part. \n",
    "\n",
    "\n"
   ]
  },
  {
   "cell_type": "code",
   "execution_count": 2,
   "metadata": {},
   "outputs": [],
   "source": [
    " # Important librairies needed:\n",
    "from sklearn import svm\n",
    "from sklearn.ensemble import RandomForestClassifier\n",
    "from imblearn.under_sampling import (RandomUnderSampler, \n",
    "                                     ClusterCentroids,\n",
    "                                     NeighbourhoodCleaningRule,EditedNearestNeighbours\n",
    "                                     )\n",
    "from collections import Counter\n",
    "from imblearn.over_sampling import SMOTE\n",
    "from sklearn.ensemble import ExtraTreesClassifier\n",
    "import scikitplot as skplt\n",
    "from sklearn.model_selection import cross_validate\n",
    "from sklearn.neural_network import MLPClassifier\n",
    "from sklearn.decomposition import PCA\n",
    "from sklearn.preprocessing import LabelEncoder \n",
    "from sklearn.model_selection import train_test_split\n",
    "from sklearn.model_selection import cross_validate\n",
    "from plotnine import *\n",
    "\n",
    "\n",
    "from datetime import datetime\n",
    "from sklearn import metrics\n",
    "import matplotlib.pyplot as plt\n",
    "import seaborn as sns\n",
    "sns.set()\n",
    "sns.set_style(\"white\")\n",
    "import pandas as pd\n",
    "pd.set_option('display.max_columns', None)\n",
    "import numpy as np\n",
    "import missingno as msno\n",
    "import yellowbrick\n",
    "import warnings\n",
    "warnings.filterwarnings('ignore')"
   ]
  },
  {
   "cell_type": "markdown",
   "metadata": {},
   "source": [
    "----"
   ]
  },
  {
   "cell_type": "markdown",
   "metadata": {},
   "source": [
    "## 1. Data cleaning and construction of explanatory variables"
   ]
  },
  {
   "cell_type": "code",
   "execution_count": 3,
   "metadata": {},
   "outputs": [],
   "source": [
    "# We begin by loading the datasets:\n",
    "\n",
    "# The one for building the scoring model:\n",
    "customer = pd.read_csv(\"https://raw.githubusercontent.com/Darwin22/scoring_for_bank_customers/master/data/Base_Scoring_Exam.txt\",encoding=\"cp1252\",sep=';')\n",
    "\n",
    "# The one for application of the chosen model:\n",
    "\n",
    "customer_test = pd.read_csv(\"https://raw.githubusercontent.com/Darwin22/scoring_for_bank_customers/master/data/Base_Scoring_Exam_Test.txt\",encoding=\"cp1252\",sep=';')"
   ]
  },
  {
   "cell_type": "markdown",
   "metadata": {},
   "source": [
    "### 1.1. Data cleaning and exploration\n",
    "\n",
    "We beging by exploring the distribution of the customers according to response variable CIBLE. We see below that the response variable has imbalanced classes. This is one of the common issues when dealing with bank customer databases. In order for our model to have a good performance, we will need to address that issue using sampling methods. We will go over that later on."
   ]
  },
  {
   "cell_type": "code",
   "execution_count": 4,
   "metadata": {},
   "outputs": [
    {
     "data": {
      "image/png": "[encoded data removed]",
      "text/plain": [
       "<Figure size 720x432 with 1 Axes>"
      ]
     },
     "metadata": {},
     "output_type": "display_data"
    },
    {
     "data": {
      "text/plain": [
       "<AxesSubplot:title={'center':'Class Balance for 50,000 Instances'}, ylabel='support'>"
      ]
     },
     "execution_count": 4,
     "metadata": {},
     "output_type": "execute_result"
    }
   ],
   "source": [
    "plt.rcParams[\"figure.figsize\"] = (10,6)\n",
    "from yellowbrick.target import ClassBalance\n",
    "# Instantiate the visualizer\n",
    "visualizer_1 = ClassBalance(labels=[\"1\", \"0\"])\n",
    "\n",
    "visualizer_1.fit(customer.CIBLE)        \n",
    "visualizer_1.show() \n",
    "\n"
   ]
  },
  {
   "cell_type": "markdown",
   "metadata": {},
   "source": [
    "To get some familiarity with the dataset, below I show the first 10 rows of the customer table."
   ]
  },
  {
   "cell_type": "code",
   "execution_count": 5,
   "metadata": {},
   "outputs": [
    {
     "data": {
      "text/html": [
       "<div>\n",
       "<style scoped>\n",
       "    .dataframe tbody tr th:only-of-type {\n",
       "        vertical-align: middle;\n",
       "    }\n",
       "\n",
       "    .dataframe tbody tr th {\n",
       "        vertical-align: top;\n",
       "    }\n",
       "\n",
       "    .dataframe thead th {\n",
       "        text-align: right;\n",
       "    }\n",
       "</style>\n",
       "<table border=\"1\" class=\"dataframe\">\n",
       "  <thead>\n",
       "    <tr style=\"text-align: right;\">\n",
       "      <th></th>\n",
       "      <th>ID_CLIENT</th>\n",
       "      <th>CIBLE</th>\n",
       "      <th>AGE</th>\n",
       "      <th>FLAG_CLIENT</th>\n",
       "      <th>FLAG_CLIENT_M6</th>\n",
       "      <th>ANC</th>\n",
       "      <th>NB_PRODUITS</th>\n",
       "      <th>SF_TOT</th>\n",
       "      <th>SF_HORS_CDD</th>\n",
       "      <th>MT_EP_DISPO</th>\n",
       "      <th>ANC_DER_MVT</th>\n",
       "      <th>SF_TOT_M6</th>\n",
       "      <th>SF_HORS_CDD_M6</th>\n",
       "      <th>FLAG_CDD</th>\n",
       "      <th>FLAG_CBI</th>\n",
       "      <th>FLAG_VISA1</th>\n",
       "      <th>SF_CDD</th>\n",
       "      <th>SF_CDD_M6</th>\n",
       "      <th>MOY_NB_MVT_CDD_12M</th>\n",
       "      <th>MOY_MVT_CRE_CDD_12M</th>\n",
       "      <th>MOY_MVT_DEB_CDD_12M</th>\n",
       "      <th>NB_PAIEMENT_CARTE</th>\n",
       "      <th>MT_PAIEMENT_CARTE</th>\n",
       "      <th>FLAG_LVA</th>\n",
       "      <th>FLAG_LVB</th>\n",
       "      <th>FLAG_LDD</th>\n",
       "      <th>FLAG_LEP</th>\n",
       "      <th>SF_LVA</th>\n",
       "      <th>SF_LVB</th>\n",
       "      <th>SF_LDD</th>\n",
       "      <th>SF_LEP</th>\n",
       "      <th>SF_LVA_M6</th>\n",
       "      <th>SF_LVB_M6</th>\n",
       "      <th>SF_LDD_M6</th>\n",
       "      <th>SF_LEP_M6</th>\n",
       "      <th>FLAG_PEL</th>\n",
       "      <th>SF_PEL</th>\n",
       "      <th>SF_PEL_M6</th>\n",
       "      <th>FLAG_CTO</th>\n",
       "      <th>FLAG_PEA</th>\n",
       "      <th>FLAG_ASV</th>\n",
       "      <th>SF_CTO</th>\n",
       "      <th>SF_PEA</th>\n",
       "      <th>SF_ASV</th>\n",
       "      <th>SF_CTO_M6</th>\n",
       "      <th>SF_PEA_M6</th>\n",
       "      <th>SF_ASV_M6</th>\n",
       "      <th>FLAG_CONSO</th>\n",
       "      <th>FLAG_IMMO</th>\n",
       "      <th>FLAG_REVOLVING</th>\n",
       "    </tr>\n",
       "  </thead>\n",
       "  <tbody>\n",
       "    <tr>\n",
       "      <th>0</th>\n",
       "      <td>17</td>\n",
       "      <td>0</td>\n",
       "      <td>72</td>\n",
       "      <td>1</td>\n",
       "      <td>1</td>\n",
       "      <td>45.833333</td>\n",
       "      <td>2</td>\n",
       "      <td>1934.67</td>\n",
       "      <td>1934.67</td>\n",
       "      <td>1934.67</td>\n",
       "      <td>4</td>\n",
       "      <td>1932.67</td>\n",
       "      <td>1934.67</td>\n",
       "      <td>1</td>\n",
       "      <td>0</td>\n",
       "      <td>0</td>\n",
       "      <td>0.00</td>\n",
       "      <td>-2.00</td>\n",
       "      <td>0.0</td>\n",
       "      <td>125.0</td>\n",
       "      <td>125.0</td>\n",
       "      <td>NaN</td>\n",
       "      <td>NaN</td>\n",
       "      <td>1</td>\n",
       "      <td>0</td>\n",
       "      <td>0</td>\n",
       "      <td>0</td>\n",
       "      <td>1934.67</td>\n",
       "      <td>NaN</td>\n",
       "      <td>NaN</td>\n",
       "      <td>NaN</td>\n",
       "      <td>1934.67</td>\n",
       "      <td>NaN</td>\n",
       "      <td>NaN</td>\n",
       "      <td>NaN</td>\n",
       "      <td>0</td>\n",
       "      <td>NaN</td>\n",
       "      <td>NaN</td>\n",
       "      <td>0</td>\n",
       "      <td>0</td>\n",
       "      <td>0</td>\n",
       "      <td>NaN</td>\n",
       "      <td>0.0</td>\n",
       "      <td>NaN</td>\n",
       "      <td>NaN</td>\n",
       "      <td>0.0</td>\n",
       "      <td>NaN</td>\n",
       "      <td>0</td>\n",
       "      <td>0</td>\n",
       "      <td>0</td>\n",
       "    </tr>\n",
       "    <tr>\n",
       "      <th>1</th>\n",
       "      <td>26</td>\n",
       "      <td>0</td>\n",
       "      <td>75</td>\n",
       "      <td>1</td>\n",
       "      <td>1</td>\n",
       "      <td>53.833333</td>\n",
       "      <td>3</td>\n",
       "      <td>85844.67</td>\n",
       "      <td>49511.50</td>\n",
       "      <td>75838.17</td>\n",
       "      <td>0</td>\n",
       "      <td>83854.24</td>\n",
       "      <td>49338.25</td>\n",
       "      <td>1</td>\n",
       "      <td>0</td>\n",
       "      <td>0</td>\n",
       "      <td>36333.17</td>\n",
       "      <td>34515.99</td>\n",
       "      <td>1.0</td>\n",
       "      <td>302.0</td>\n",
       "      <td>2.0</td>\n",
       "      <td>NaN</td>\n",
       "      <td>NaN</td>\n",
       "      <td>1</td>\n",
       "      <td>0</td>\n",
       "      <td>1</td>\n",
       "      <td>1</td>\n",
       "      <td>21466.18</td>\n",
       "      <td>NaN</td>\n",
       "      <td>5769.41</td>\n",
       "      <td>12269.41</td>\n",
       "      <td>21466.18</td>\n",
       "      <td>NaN</td>\n",
       "      <td>5769.41</td>\n",
       "      <td>12269.41</td>\n",
       "      <td>0</td>\n",
       "      <td>NaN</td>\n",
       "      <td>NaN</td>\n",
       "      <td>1</td>\n",
       "      <td>0</td>\n",
       "      <td>0</td>\n",
       "      <td>10006.5</td>\n",
       "      <td>0.0</td>\n",
       "      <td>NaN</td>\n",
       "      <td>9833.25</td>\n",
       "      <td>0.0</td>\n",
       "      <td>NaN</td>\n",
       "      <td>0</td>\n",
       "      <td>0</td>\n",
       "      <td>0</td>\n",
       "    </tr>\n",
       "    <tr>\n",
       "      <th>2</th>\n",
       "      <td>31</td>\n",
       "      <td>0</td>\n",
       "      <td>69</td>\n",
       "      <td>1</td>\n",
       "      <td>1</td>\n",
       "      <td>38.833333</td>\n",
       "      <td>2</td>\n",
       "      <td>16470.67</td>\n",
       "      <td>16470.67</td>\n",
       "      <td>16470.67</td>\n",
       "      <td>99</td>\n",
       "      <td>16470.67</td>\n",
       "      <td>16470.67</td>\n",
       "      <td>0</td>\n",
       "      <td>0</td>\n",
       "      <td>0</td>\n",
       "      <td>NaN</td>\n",
       "      <td>NaN</td>\n",
       "      <td>NaN</td>\n",
       "      <td>NaN</td>\n",
       "      <td>NaN</td>\n",
       "      <td>NaN</td>\n",
       "      <td>NaN</td>\n",
       "      <td>1</td>\n",
       "      <td>0</td>\n",
       "      <td>0</td>\n",
       "      <td>0</td>\n",
       "      <td>16470.67</td>\n",
       "      <td>NaN</td>\n",
       "      <td>NaN</td>\n",
       "      <td>NaN</td>\n",
       "      <td>16470.67</td>\n",
       "      <td>NaN</td>\n",
       "      <td>NaN</td>\n",
       "      <td>NaN</td>\n",
       "      <td>0</td>\n",
       "      <td>NaN</td>\n",
       "      <td>NaN</td>\n",
       "      <td>0</td>\n",
       "      <td>0</td>\n",
       "      <td>0</td>\n",
       "      <td>NaN</td>\n",
       "      <td>0.0</td>\n",
       "      <td>NaN</td>\n",
       "      <td>NaN</td>\n",
       "      <td>0.0</td>\n",
       "      <td>NaN</td>\n",
       "      <td>0</td>\n",
       "      <td>0</td>\n",
       "      <td>0</td>\n",
       "    </tr>\n",
       "    <tr>\n",
       "      <th>3</th>\n",
       "      <td>36</td>\n",
       "      <td>0</td>\n",
       "      <td>52</td>\n",
       "      <td>1</td>\n",
       "      <td>1</td>\n",
       "      <td>3.166667</td>\n",
       "      <td>3</td>\n",
       "      <td>47.58</td>\n",
       "      <td>10.58</td>\n",
       "      <td>47.58</td>\n",
       "      <td>1</td>\n",
       "      <td>12.58</td>\n",
       "      <td>10.58</td>\n",
       "      <td>1</td>\n",
       "      <td>0</td>\n",
       "      <td>0</td>\n",
       "      <td>37.00</td>\n",
       "      <td>2.00</td>\n",
       "      <td>1.0</td>\n",
       "      <td>5.0</td>\n",
       "      <td>2.0</td>\n",
       "      <td>0.0</td>\n",
       "      <td>0.0</td>\n",
       "      <td>1</td>\n",
       "      <td>0</td>\n",
       "      <td>0</td>\n",
       "      <td>0</td>\n",
       "      <td>10.58</td>\n",
       "      <td>NaN</td>\n",
       "      <td>NaN</td>\n",
       "      <td>NaN</td>\n",
       "      <td>10.58</td>\n",
       "      <td>NaN</td>\n",
       "      <td>NaN</td>\n",
       "      <td>NaN</td>\n",
       "      <td>0</td>\n",
       "      <td>NaN</td>\n",
       "      <td>NaN</td>\n",
       "      <td>0</td>\n",
       "      <td>0</td>\n",
       "      <td>0</td>\n",
       "      <td>NaN</td>\n",
       "      <td>0.0</td>\n",
       "      <td>NaN</td>\n",
       "      <td>NaN</td>\n",
       "      <td>0.0</td>\n",
       "      <td>NaN</td>\n",
       "      <td>0</td>\n",
       "      <td>0</td>\n",
       "      <td>0</td>\n",
       "    </tr>\n",
       "    <tr>\n",
       "      <th>4</th>\n",
       "      <td>48</td>\n",
       "      <td>0</td>\n",
       "      <td>32</td>\n",
       "      <td>1</td>\n",
       "      <td>1</td>\n",
       "      <td>32.833333</td>\n",
       "      <td>2</td>\n",
       "      <td>13734.34</td>\n",
       "      <td>13734.34</td>\n",
       "      <td>13734.34</td>\n",
       "      <td>3</td>\n",
       "      <td>13234.34</td>\n",
       "      <td>13234.34</td>\n",
       "      <td>0</td>\n",
       "      <td>0</td>\n",
       "      <td>0</td>\n",
       "      <td>NaN</td>\n",
       "      <td>NaN</td>\n",
       "      <td>NaN</td>\n",
       "      <td>NaN</td>\n",
       "      <td>NaN</td>\n",
       "      <td>NaN</td>\n",
       "      <td>NaN</td>\n",
       "      <td>1</td>\n",
       "      <td>0</td>\n",
       "      <td>0</td>\n",
       "      <td>0</td>\n",
       "      <td>13734.34</td>\n",
       "      <td>NaN</td>\n",
       "      <td>NaN</td>\n",
       "      <td>NaN</td>\n",
       "      <td>13234.34</td>\n",
       "      <td>NaN</td>\n",
       "      <td>NaN</td>\n",
       "      <td>NaN</td>\n",
       "      <td>0</td>\n",
       "      <td>NaN</td>\n",
       "      <td>NaN</td>\n",
       "      <td>0</td>\n",
       "      <td>0</td>\n",
       "      <td>0</td>\n",
       "      <td>NaN</td>\n",
       "      <td>0.0</td>\n",
       "      <td>NaN</td>\n",
       "      <td>NaN</td>\n",
       "      <td>0.0</td>\n",
       "      <td>NaN</td>\n",
       "      <td>0</td>\n",
       "      <td>0</td>\n",
       "      <td>0</td>\n",
       "    </tr>\n",
       "  </tbody>\n",
       "</table>\n",
       "</div>"
      ],
      "text/plain": [
       "   ID_CLIENT  CIBLE  AGE  FLAG_CLIENT  FLAG_CLIENT_M6        ANC  NB_PRODUITS  \\\n",
       "0         17      0   72            1               1  45.833333            2   \n",
       "1         26      0   75            1               1  53.833333            3   \n",
       "2         31      0   69            1               1  38.833333            2   \n",
       "3         36      0   52            1               1   3.166667            3   \n",
       "4         48      0   32            1               1  32.833333            2   \n",
       "\n",
       "     SF_TOT  SF_HORS_CDD  MT_EP_DISPO  ANC_DER_MVT  SF_TOT_M6  SF_HORS_CDD_M6  \\\n",
       "0   1934.67      1934.67      1934.67            4    1932.67         1934.67   \n",
       "1  85844.67     49511.50     75838.17            0   83854.24        49338.25   \n",
       "2  16470.67     16470.67     16470.67           99   16470.67        16470.67   \n",
       "3     47.58        10.58        47.58            1      12.58           10.58   \n",
       "4  13734.34     13734.34     13734.34            3   13234.34        13234.34   \n",
       "\n",
       "   FLAG_CDD  FLAG_CBI  FLAG_VISA1    SF_CDD  SF_CDD_M6  MOY_NB_MVT_CDD_12M  \\\n",
       "0         1         0           0      0.00      -2.00                 0.0   \n",
       "1         1         0           0  36333.17   34515.99                 1.0   \n",
       "2         0         0           0       NaN        NaN                 NaN   \n",
       "3         1         0           0     37.00       2.00                 1.0   \n",
       "4         0         0           0       NaN        NaN                 NaN   \n",
       "\n",
       "   MOY_MVT_CRE_CDD_12M  MOY_MVT_DEB_CDD_12M  NB_PAIEMENT_CARTE  \\\n",
       "0                125.0                125.0                NaN   \n",
       "1                302.0                  2.0                NaN   \n",
       "2                  NaN                  NaN                NaN   \n",
       "3                  5.0                  2.0                0.0   \n",
       "4                  NaN                  NaN                NaN   \n",
       "\n",
       "   MT_PAIEMENT_CARTE  FLAG_LVA  FLAG_LVB  FLAG_LDD  FLAG_LEP    SF_LVA  \\\n",
       "0                NaN         1         0         0         0   1934.67   \n",
       "1                NaN         1         0         1         1  21466.18   \n",
       "2                NaN         1         0         0         0  16470.67   \n",
       "3                0.0         1         0         0         0     10.58   \n",
       "4                NaN         1         0         0         0  13734.34   \n",
       "\n",
       "   SF_LVB   SF_LDD    SF_LEP  SF_LVA_M6  SF_LVB_M6  SF_LDD_M6  SF_LEP_M6  \\\n",
       "0     NaN      NaN       NaN    1934.67        NaN        NaN        NaN   \n",
       "1     NaN  5769.41  12269.41   21466.18        NaN    5769.41   12269.41   \n",
       "2     NaN      NaN       NaN   16470.67        NaN        NaN        NaN   \n",
       "3     NaN      NaN       NaN      10.58        NaN        NaN        NaN   \n",
       "4     NaN      NaN       NaN   13234.34        NaN        NaN        NaN   \n",
       "\n",
       "   FLAG_PEL  SF_PEL  SF_PEL_M6  FLAG_CTO  FLAG_PEA  FLAG_ASV   SF_CTO  SF_PEA  \\\n",
       "0         0     NaN        NaN         0         0         0      NaN     0.0   \n",
       "1         0     NaN        NaN         1         0         0  10006.5     0.0   \n",
       "2         0     NaN        NaN         0         0         0      NaN     0.0   \n",
       "3         0     NaN        NaN         0         0         0      NaN     0.0   \n",
       "4         0     NaN        NaN         0         0         0      NaN     0.0   \n",
       "\n",
       "   SF_ASV  SF_CTO_M6  SF_PEA_M6  SF_ASV_M6  FLAG_CONSO  FLAG_IMMO  \\\n",
       "0     NaN        NaN        0.0        NaN           0          0   \n",
       "1     NaN    9833.25        0.0        NaN           0          0   \n",
       "2     NaN        NaN        0.0        NaN           0          0   \n",
       "3     NaN        NaN        0.0        NaN           0          0   \n",
       "4     NaN        NaN        0.0        NaN           0          0   \n",
       "\n",
       "   FLAG_REVOLVING  \n",
       "0               0  \n",
       "1               0  \n",
       "2               0  \n",
       "3               0  \n",
       "4               0  "
      ]
     },
     "execution_count": 5,
     "metadata": {},
     "output_type": "execute_result"
    }
   ],
   "source": [
    "customer.head(5)"
   ]
  },
  {
   "cell_type": "markdown",
   "metadata": {},
   "source": [
    "**Missing Values**\n",
    "\n",
    "Missing values is another common issue with raw data. Here is a summary of the missing values within the variables"
   ]
  },
  {
   "cell_type": "code",
   "execution_count": 6,
   "metadata": {},
   "outputs": [
    {
     "data": {
      "text/plain": [
       "ID_CLIENT                  0\n",
       "CIBLE                      0\n",
       "AGE                        0\n",
       "FLAG_CLIENT                0\n",
       "FLAG_CLIENT_M6             0\n",
       "ANC                        0\n",
       "NB_PRODUITS                0\n",
       "SF_TOT                     0\n",
       "SF_HORS_CDD                0\n",
       "MT_EP_DISPO                0\n",
       "ANC_DER_MVT                0\n",
       "SF_TOT_M6                152\n",
       "SF_HORS_CDD_M6           152\n",
       "FLAG_CDD                   0\n",
       "FLAG_CBI                   0\n",
       "FLAG_VISA1                 0\n",
       "SF_CDD                 22967\n",
       "SF_CDD_M6              23380\n",
       "MOY_NB_MVT_CDD_12M     22967\n",
       "MOY_MVT_CRE_CDD_12M    22967\n",
       "MOY_MVT_DEB_CDD_12M    22967\n",
       "NB_PAIEMENT_CARTE      49142\n",
       "MT_PAIEMENT_CARTE      49142\n",
       "FLAG_LVA                   0\n",
       "FLAG_LVB                   0\n",
       "FLAG_LDD                   0\n",
       "FLAG_LEP                   0\n",
       "SF_LVA                 10131\n",
       "SF_LVB                 48335\n",
       "SF_LDD                 45490\n",
       "SF_LEP                 42671\n",
       "SF_LVA_M6              10158\n",
       "SF_LVB_M6              48374\n",
       "SF_LDD_M6              45589\n",
       "SF_LEP_M6              42621\n",
       "FLAG_PEL                   0\n",
       "SF_PEL                 49057\n",
       "SF_PEL_M6              49014\n",
       "FLAG_CTO                   0\n",
       "FLAG_PEA                   0\n",
       "FLAG_ASV                   0\n",
       "SF_CTO                 47490\n",
       "SF_PEA                     0\n",
       "SF_ASV                 45702\n",
       "SF_CTO_M6              47609\n",
       "SF_PEA_M6                152\n",
       "SF_ASV_M6              45767\n",
       "FLAG_CONSO                 0\n",
       "FLAG_IMMO                  0\n",
       "FLAG_REVOLVING             0\n",
       "dtype: int64"
      ]
     },
     "execution_count": 6,
     "metadata": {},
     "output_type": "execute_result"
    }
   ],
   "source": [
    "customer.isnull().sum()"
   ]
  },
  {
   "cell_type": "markdown",
   "metadata": {},
   "source": [
    "We see below that 25% of the variables have more than 42658 missing values."
   ]
  },
  {
   "cell_type": "code",
   "execution_count": 7,
   "metadata": {},
   "outputs": [
    {
     "data": {
      "text/plain": [
       "count       50.000000\n",
       "mean     15839.920000\n",
       "std      20762.364776\n",
       "min          0.000000\n",
       "25%          0.000000\n",
       "50%          0.000000\n",
       "75%      42658.500000\n",
       "max      49142.000000\n",
       "dtype: float64"
      ]
     },
     "execution_count": 7,
     "metadata": {},
     "output_type": "execute_result"
    }
   ],
   "source": [
    "customer.isnull().sum().describe()"
   ]
  },
  {
   "cell_type": "markdown",
   "metadata": {},
   "source": [
    "We also have a summary of missing values according to the customers. We can see that 75% of the customers have less than 19 missing values over all the variables."
   ]
  },
  {
   "cell_type": "code",
   "execution_count": 8,
   "metadata": {},
   "outputs": [
    {
     "data": {
      "text/plain": [
       "count    50000.000000\n",
       "mean        15.839920\n",
       "std          2.952238\n",
       "min          6.000000\n",
       "25%         14.000000\n",
       "50%         16.000000\n",
       "75%         19.000000\n",
       "max         24.000000\n",
       "dtype: float64"
      ]
     },
     "execution_count": 8,
     "metadata": {},
     "output_type": "execute_result"
    }
   ],
   "source": [
    "customer.isnull().sum(1).describe()"
   ]
  },
  {
   "cell_type": "markdown",
   "metadata": {},
   "source": [
    "There are many methods to address the missing values. Here, as I will optimize the variables (See \"Optimizing the predictive variables\" part) by using data discretization, I will take care of the missing values during that part."
   ]
  },
  {
   "cell_type": "markdown",
   "metadata": {},
   "source": [
    "**Dealing with inconsistent values**\n",
    "\n",
    "Part of the data cleaning process consist at removing and/or replacing invalid values. Here we address some of them. \n",
    "\n",
    "Here, 45 people with positive card payment amounts when they do not have a card are removed.\n"
   ]
  },
  {
   "cell_type": "code",
   "execution_count": 9,
   "metadata": {},
   "outputs": [],
   "source": [
    "# 45 customers having a positive card payment amounts but do not have neither CBI nor VISA cards. \n",
    "customer = customer[-((customer.FLAG_CBI==0) & (customer.FLAG_VISA1 ==0) & (customer.MT_PAIEMENT_CARTE>0))]\n"
   ]
  },
  {
   "cell_type": "markdown",
   "metadata": {},
   "source": [
    "Below, We remove people whose AGE is lower than ANC (Which is around 1600 rows in the dataset). ANC is the variable for Customer's seniority (in years) and cannot be greater than the customer's age."
   ]
  },
  {
   "cell_type": "code",
   "execution_count": 10,
   "metadata": {},
   "outputs": [],
   "source": [
    "customer = customer[customer.AGE > customer.ANC]"
   ]
  },
  {
   "cell_type": "markdown",
   "metadata": {},
   "source": [
    "Here, we remove customers older than 85 in the database. Few of those people have made it to the next segment anyway. "
   ]
  },
  {
   "cell_type": "code",
   "execution_count": 11,
   "metadata": {},
   "outputs": [
    {
     "data": {
      "text/plain": [
       "0    3165\n",
       "1      81\n",
       "Name: CIBLE, dtype: int64"
      ]
     },
     "execution_count": 11,
     "metadata": {},
     "output_type": "execute_result"
    }
   ],
   "source": [
    "customer.CIBLE[customer.AGE >= 85].value_counts()"
   ]
  },
  {
   "cell_type": "code",
   "execution_count": 12,
   "metadata": {},
   "outputs": [],
   "source": [
    "customer = customer[customer.AGE <85]"
   ]
  },
  {
   "cell_type": "markdown",
   "metadata": {},
   "source": [
    "We remove here the people who have a negative payment amount"
   ]
  },
  {
   "cell_type": "code",
   "execution_count": 13,
   "metadata": {},
   "outputs": [],
   "source": [
    "customer = customer[-((customer.MT_PAIEMENT_CARTE <0) & (customer.FLAG_CBI==1) & (customer.FLAG_VISA1==0))]"
   ]
  },
  {
   "cell_type": "markdown",
   "metadata": {},
   "source": [
    "We find here individuals with a value of 99 for the number of months since the client made a movement. Which appear to be very high, especially since the maximum recorded outside 99 is 11. Since we do not have too much information on the reliability of these data, we propose to replace 99 by the mean of this variable (Mean calculated without the 99 values). "
   ]
  },
  {
   "cell_type": "code",
   "execution_count": 14,
   "metadata": {},
   "outputs": [],
   "source": [
    "customer.ANC_DER_MVT[customer.ANC_DER_MVT == 99] = customer.ANC_DER_MVT[customer.ANC_DER_MVT!=99].mean()\n",
    "customer_test.ANC_DER_MVT[customer_test.ANC_DER_MVT == 99] = customer_test.ANC_DER_MVT[customer_test.ANC_DER_MVT!=99].mean()"
   ]
  },
  {
   "cell_type": "code",
   "execution_count": 15,
   "metadata": {},
   "outputs": [],
   "source": [
    "# Change categorical variables into pandas category datatype:\n",
    "customer.FLAG_ASV = customer.FLAG_ASV.astype('category')\n",
    "customer.FLAG_CBI = customer.FLAG_CBI.astype('category')\n",
    "customer.FLAG_CDD = customer.FLAG_CDD.astype('category')\n",
    "customer.FLAG_CLIENT = customer.FLAG_CLIENT.astype('category')\n",
    "customer.FLAG_CLIENT_M6 = customer.FLAG_CLIENT_M6.astype('category')\n",
    "customer.FLAG_CONSO = customer.FLAG_CONSO.astype('category')\n",
    "customer.FLAG_CTO = customer.FLAG_CTO.astype('category')\n",
    "customer.FLAG_IMMO = customer.FLAG_IMMO.astype('category')\n",
    "customer.FLAG_LDD = customer.FLAG_LDD.astype('category')\n",
    "customer.FLAG_LEP = customer.FLAG_LEP.astype('category')\n",
    "customer.FLAG_LVA = customer.FLAG_LVA.astype('category')\n",
    "customer.FLAG_LVB = customer.FLAG_LVB.astype('category')\n",
    "customer.FLAG_PEA = customer.FLAG_PEA.astype('category')\n",
    "customer.FLAG_PEL = customer.FLAG_PEL.astype('category')\n",
    "customer.FLAG_REVOLVING = customer.FLAG_REVOLVING.astype('category')\n",
    "customer.FLAG_VISA1 = customer.FLAG_VISA1.astype('category')\n",
    "customer.CIBLE = customer.CIBLE.astype('category')\n",
    "customer.ID_CLIENT = customer.ID_CLIENT.astype('object')\n"
   ]
  },
  {
   "cell_type": "markdown",
   "metadata": {},
   "source": [
    "**Dealing with outliers**\n",
    "\n",
    "Another issue can be quantitative variables having some extreme values. Here we see some examples of the distribution of variables. We have the histogram of the age and the seniority of the customers"
   ]
  },
  {
   "cell_type": "code",
   "execution_count": 16,
   "metadata": {},
   "outputs": [
    {
     "data": {
      "image/png": "[encoded data removed]",
      "text/plain": [
       "<Figure size 720x432 with 1 Axes>"
      ]
     },
     "metadata": {},
     "output_type": "display_data"
    }
   ],
   "source": [
    "customer.AGE.hist()\n",
    "plt.title('Histogram of the variable Age')\n",
    "plt.show()"
   ]
  },
  {
   "cell_type": "code",
   "execution_count": 17,
   "metadata": {},
   "outputs": [
    {
     "data": {
      "image/png": "[encoded data removed]",
      "text/plain": [
       "<Figure size 720x432 with 1 Axes>"
      ]
     },
     "metadata": {},
     "output_type": "display_data"
    }
   ],
   "source": [
    "customer.ANC.hist()\n",
    "plt.title('Histogram of the seniority of the customers')\n",
    "plt.show()"
   ]
  },
  {
   "cell_type": "markdown",
   "metadata": {},
   "source": [
    "We see that the distributions have a some long tails, which tells us that there is a risk of having a lot of outliers. This is the case for almost all continuous variables in the dataset. Thus, I choose to winsorize the quantitative variables, that is to say that we will try to reduce the outliers and adjust the data distribution a little by reducing the values above the 95th percentile to the 95th percentile and increase the values lower to the 5th percentile to the 5th percentile. "
   ]
  },
  {
   "cell_type": "code",
   "execution_count": 18,
   "metadata": {},
   "outputs": [],
   "source": [
    "def outliers_IQR(data, col):\n",
    "    for var in col:\n",
    "        lower_quartile = data[var].quantile(0.25)\n",
    "        upper_quartile = data[var].quantile(0.75)\n",
    "        IQR = upper_quartile - lower_quartile\n",
    "        outlier_thresh = 1.5 * IQR\n",
    "        data[var][data[var]>=(upper_quartile + outlier_thresh)] = data[var].quantile(0.95)\n",
    "        data[var][data[var]<=(lower_quartile - outlier_thresh)] = data[var].quantile(0.05)\n",
    "\n"
   ]
  },
  {
   "cell_type": "code",
   "execution_count": 19,
   "metadata": {},
   "outputs": [],
   "source": [
    "cols = ['AGE', 'ANC', 'SF_TOT', 'SF_HORS_CDD', 'MT_EP_DISPO',\n",
    "       'ANC_DER_MVT', 'SF_TOT_M6', 'SF_HORS_CDD_M6', 'SF_CDD', 'SF_CDD_M6',\n",
    "       'MOY_NB_MVT_CDD_12M', 'MOY_MVT_CRE_CDD_12M', 'MOY_MVT_DEB_CDD_12M',\n",
    "       'MT_PAIEMENT_CARTE', 'SF_LVA', 'SF_LVB', 'SF_LDD',\n",
    "       'SF_LEP', 'SF_LVA_M6', 'SF_LVB_M6', 'SF_LDD_M6', 'SF_LEP_M6', 'SF_PEL',\n",
    "       'SF_PEL_M6', 'SF_CTO', 'SF_PEA', 'SF_ASV', 'SF_CTO_M6', 'SF_PEA_M6',\n",
    "       'SF_ASV_M6']"
   ]
  },
  {
   "cell_type": "code",
   "execution_count": 20,
   "metadata": {},
   "outputs": [],
   "source": [
    "outliers_IQR(customer,cols)"
   ]
  },
  {
   "cell_type": "code",
   "execution_count": 21,
   "metadata": {},
   "outputs": [
    {
     "data": {
      "image/png": "[encoded data removed]",
      "text/plain": [
       "<Figure size 720x432 with 1 Axes>"
      ]
     },
     "metadata": {},
     "output_type": "display_data"
    }
   ],
   "source": [
    "# For isntance, here is the new distribution of the ANC variable:\n",
    "customer.ANC.hist()\n",
    "plt.title('Histogram of the seniority of the customers')\n",
    "plt.show()"
   ]
  },
  {
   "cell_type": "markdown",
   "metadata": {},
   "source": [
    "### 1.2. Construction of new explanatory variables\n",
    "\n",
    "\n",
    "In this part we create some additional features based on raw variables available in the original dataset. \n"
   ]
  },
  {
   "cell_type": "markdown",
   "metadata": {},
   "source": [
    "**1. NB_PEI = FLAG_PEL + FLAG_CTO + FLAG_PEA + FLAG_ASV**\n",
    "\n",
    "This variable reflects the number of invested savings products held by each client. Money is a little less liquid, placed on these supports with the aim of keeping it for several years through favorable taxation."
   ]
  },
  {
   "cell_type": "code",
   "execution_count": 22,
   "metadata": {},
   "outputs": [],
   "source": [
    "customer['NB_PEI'] = customer.FLAG_PEL.astype(int) + customer.FLAG_CTO.astype(int) +customer.FLAG_PEA.astype(int) + customer.FLAG_ASV.astype(int)"
   ]
  },
  {
   "cell_type": "markdown",
   "metadata": {},
   "source": [
    "**2. Moy_SF_TOT/Prod = SF_TOT/NB_PRODUITS** \n",
    "\n",
    "This variable reflects the average of the total balance by product.\n"
   ]
  },
  {
   "cell_type": "code",
   "execution_count": 23,
   "metadata": {},
   "outputs": [],
   "source": [
    "customer['Moy_SF_TOT/Prod'] = customer.SF_TOT/customer.NB_PRODUITS"
   ]
  },
  {
   "cell_type": "markdown",
   "metadata": {},
   "source": [
    "**3. Diff_SF_LivA = SF_LVA - SF_LVA_M6**\n",
    "\n",
    "This variable reflects the difference between the current balance on Livret A and the balance 6 months ago."
   ]
  },
  {
   "cell_type": "code",
   "execution_count": 24,
   "metadata": {},
   "outputs": [],
   "source": [
    "customer['Diff_SF_LivA'] = customer.SF_LVA - customer.SF_LVA_M6"
   ]
  },
  {
   "cell_type": "markdown",
   "metadata": {},
   "source": [
    "**4. Diff_SF_LivB = SF_LVB - SF_LVB_M6**\n",
    "\n",
    "\n",
    "This variable reflects the difference between the current balance in Livret B and the balance 6 months ago.\n"
   ]
  },
  {
   "cell_type": "code",
   "execution_count": 25,
   "metadata": {},
   "outputs": [],
   "source": [
    "customer['Diff_SF_LivB'] = customer.SF_LVB - customer.SF_LVB_M6"
   ]
  },
  {
   "cell_type": "markdown",
   "metadata": {},
   "source": [
    "**5. Diff_SF_LDD = SF_LDD - SF_LDD_M6**\n",
    "\n",
    "This variable reflects the difference between the current balance on the  Sustainable Development Booklet and the balance 6 months ago."
   ]
  },
  {
   "cell_type": "code",
   "execution_count": 26,
   "metadata": {},
   "outputs": [],
   "source": [
    "customer['Diff_SF_LDD'] = customer.SF_LDD - customer.SF_LDD_M6"
   ]
  },
  {
   "cell_type": "markdown",
   "metadata": {},
   "source": [
    "**6. Diff_SF_LEP = SF_LEP - SF_LEP_M6**\n",
    "\n",
    "This variable reflects the difference between the current balance on the \"Livret d'Epargne Populaire\" and the balance 6 months ago."
   ]
  },
  {
   "cell_type": "code",
   "execution_count": 27,
   "metadata": {},
   "outputs": [],
   "source": [
    "customer['Diff_SF_LEP'] = customer.SF_LEP - customer.SF_LEP_M6"
   ]
  },
  {
   "cell_type": "markdown",
   "metadata": {},
   "source": [
    "**7. Diff_SF_CDD = SF_CDD - SF_CDD_M6**\n",
    "\n",
    "This variable reflects the difference between the current balance on the CDD and the balance 6 months ago."
   ]
  },
  {
   "cell_type": "code",
   "execution_count": 28,
   "metadata": {},
   "outputs": [],
   "source": [
    "customer['Diff_SF_CDD'] = customer.SF_CDD - customer.SF_CDD_M6"
   ]
  },
  {
   "cell_type": "markdown",
   "metadata": {},
   "source": [
    "**8. Diff_SF_TOT = SF_TOT - SF_TOT_M6**\n",
    "\n",
    "\n",
    "This variable reflects the difference between the current customer's total balance for all products held and the total balance 6 months ago."
   ]
  },
  {
   "cell_type": "code",
   "execution_count": 29,
   "metadata": {},
   "outputs": [],
   "source": [
    "customer['Diff_SF_TOT'] = customer.SF_TOT - customer.SF_TOT_M6"
   ]
  },
  {
   "cell_type": "markdown",
   "metadata": {},
   "source": [
    "**9. Diff_SF_HORS_CDD = SF_HORS_CDD - SF_HORS_CDD_M6**\n",
    "\n",
    "This variable reflects the difference between the customer's total balance for all products held, apart from the deposit account and the total balance 6 months ago"
   ]
  },
  {
   "cell_type": "code",
   "execution_count": 30,
   "metadata": {},
   "outputs": [],
   "source": [
    "customer['Diff_SF_HORS_CDD'] = customer.SF_HORS_CDD - customer.SF_HORS_CDD_M6"
   ]
  },
  {
   "cell_type": "markdown",
   "metadata": {},
   "source": [
    "**10. Diff_SF_PEL = SF_PEL - SF_PEL_M6**\n",
    "\n",
    "This variable reflects the difference between the current balance on the Housing Savings Plan in the month of the study and the balance 6 months ago."
   ]
  },
  {
   "cell_type": "code",
   "execution_count": 31,
   "metadata": {},
   "outputs": [],
   "source": [
    "customer['Diff_SF_PEL'] = customer.SF_PEL - customer.SF_PEL_M6"
   ]
  },
  {
   "cell_type": "markdown",
   "metadata": {},
   "source": [
    "**11. Diff_SF_CTO = SF_CTO - SF_CTO_M6**\n",
    "\n",
    "This variable reflects the difference between the current balance on the Ordinary Securities Account and the amount balance 6 months ago."
   ]
  },
  {
   "cell_type": "code",
   "execution_count": 32,
   "metadata": {},
   "outputs": [],
   "source": [
    "customer['Diff_SF_CTO'] = customer.SF_CTO - customer.SF_CTO_M6"
   ]
  },
  {
   "cell_type": "markdown",
   "metadata": {},
   "source": [
    "**12. Diff_Mvt_Moy = MOY_MVT_CRE_CDD_12M - MOY_MVT_DEB_CDD_12M**\n",
    "\n",
    "This variable reflects the difference between the average monthly amount over 12 months of credit movements on the deposit account and the average monthly amount over 12 months of debit movements on the deposit account."
   ]
  },
  {
   "cell_type": "code",
   "execution_count": 33,
   "metadata": {},
   "outputs": [],
   "source": [
    "customer['Diff_Mvt_Moy'] = customer.MOY_MVT_CRE_CDD_12M - customer.MOY_MVT_DEB_CDD_12M"
   ]
  },
  {
   "cell_type": "markdown",
   "metadata": {},
   "source": [
    "**13. MOY_MT_EP_DISPO_ANC = MT_EP_DISPO / ANC**\n",
    "\n",
    "This variable reflects the average savings available by year of seniority.\n"
   ]
  },
  {
   "cell_type": "code",
   "execution_count": 34,
   "metadata": {},
   "outputs": [],
   "source": [
    "customer['MOY_MT_EP_DISPO_ANC'] = np.where(customer.ANC==0,customer.MT_EP_DISPO , customer.MT_EP_DISPO / customer.ANC)"
   ]
  },
  {
   "cell_type": "markdown",
   "metadata": {},
   "source": [
    "**14. MOY_SF_TOT_ANC = SF_TOT / ANC**\n",
    "\n",
    "This variable reflects the average of the customer's total balance for all the products held by year of seniority."
   ]
  },
  {
   "cell_type": "code",
   "execution_count": 35,
   "metadata": {},
   "outputs": [],
   "source": [
    "customer['MOY_SF_TOT_ANC'] = np.where(customer.ANC==0, customer.SF_TOT,customer.SF_TOT / customer.ANC)"
   ]
  },
  {
   "cell_type": "markdown",
   "metadata": {},
   "source": [
    "**15. MOY_SF_HORS_CDD_ANC = SF_HORS_CDD / ANC**\n",
    "\n",
    "This variable reflects the average of the customer's total balance on all the products held, excluding the deposit account by year of seniority.\n",
    "\n"
   ]
  },
  {
   "cell_type": "code",
   "execution_count": 36,
   "metadata": {},
   "outputs": [],
   "source": [
    "customer['MOY_SF_HORS_CDD_ANC'] = np.where(customer.ANC==0, customer.SF_HORS_CDD, customer.SF_HORS_CDD/ customer.ANC)"
   ]
  },
  {
   "cell_type": "markdown",
   "metadata": {},
   "source": [
    "**16. MOY_MOY_NB_MVT_CDD_12M_ANC = MOY_NB_MVT_CDD_12M / ANC**\n",
    "\n",
    "This variable reflects the average of the monthly movements number over 12 months on the deposit account by year of seniority"
   ]
  },
  {
   "cell_type": "code",
   "execution_count": 37,
   "metadata": {},
   "outputs": [],
   "source": [
    "customer['MOY_MOY_NB_MVT_CDD_12M_ANC'] = np.where(customer.ANC==0, customer.MOY_NB_MVT_CDD_12M, customer.MOY_NB_MVT_CDD_12M/ customer.ANC)"
   ]
  },
  {
   "cell_type": "markdown",
   "metadata": {},
   "source": [
    "**17. Diff_LVA_LVB = SF_LVA - SF_LVB**\n",
    "\n",
    "This variable reflects the difference between the current balance on the Livret A and the current on the Livret B.\n"
   ]
  },
  {
   "cell_type": "code",
   "execution_count": 38,
   "metadata": {},
   "outputs": [],
   "source": [
    "customer['Diff_LVA_LVB']= customer.SF_LVA - customer.SF_LVB"
   ]
  },
  {
   "cell_type": "markdown",
   "metadata": {},
   "source": [
    "**18. Diff_LVA_LEP = SF_LVA - SF_LEP**\n",
    "\n",
    "This variable reflects the difference between the current balance on the Livret A and the balance on the Livret Epargne Populaire."
   ]
  },
  {
   "cell_type": "code",
   "execution_count": 39,
   "metadata": {},
   "outputs": [],
   "source": [
    "customer['Diff_LVA_LEP']= customer.SF_LVA - customer.SF_LEP"
   ]
  },
  {
   "cell_type": "markdown",
   "metadata": {},
   "source": [
    "**Diff_LVB_LEP = SF_LVB - SF_LEP**\n",
    "\n",
    "This variable reflects the difference between the current balance on the Livret B and the current balance on the Livret Epargne Populaire."
   ]
  },
  {
   "cell_type": "code",
   "execution_count": 40,
   "metadata": {},
   "outputs": [],
   "source": [
    "customer['Diff_LVB_LEP']= customer.SF_LVB - customer.SF_LEP"
   ]
  },
  {
   "cell_type": "code",
   "execution_count": 41,
   "metadata": {},
   "outputs": [],
   "source": [
    "## Number of current product\n",
    "customer['Nb_Prod_Encours'] = customer.FLAG_CDD.astype(int)+customer.FLAG_CBI.astype(int) +customer.FLAG_VISA1.astype(int)+customer.FLAG_LVA.astype(int) + customer.FLAG_LVB.astype(int) + customer.FLAG_LDD.astype(int) + customer.FLAG_LEP.astype(int)+customer.FLAG_PEL.astype(int)+customer.FLAG_CTO.astype(int) + customer.FLAG_PEA.astype(int) + customer.FLAG_ASV.astype(int) + customer.FLAG_CONSO.astype(int) + customer.FLAG_IMMO.astype(int)+ customer.FLAG_REVOLVING.astype(int)"
   ]
  },
  {
   "cell_type": "markdown",
   "metadata": {},
   "source": [
    "-----"
   ]
  },
  {
   "cell_type": "markdown",
   "metadata": {},
   "source": [
    "### 2. Optimizing the predictive variables\n",
    "\n",
    "We begin here the process of discretization of quantitative variables. How will we proceed? We divide the variable into deciles, we calculate the percentage of customers moved to the next higher segment in each class, and we try to group together similar percentages, so that the percentages within each class are similar and the percentages from one class to another are different. Then, we evaluate this discretization in terms of discriminative power. If the discretized variable indicates a difference according to the categories of the dependent variable, it is because the discriminative power is there, otherwise we do not need to consider this variable.\n",
    "\n"
   ]
  },
  {
   "cell_type": "markdown",
   "metadata": {},
   "source": [
    "Deciles for the SF_TOT variable:"
   ]
  },
  {
   "cell_type": "code",
   "execution_count": 42,
   "metadata": {},
   "outputs": [
    {
     "data": {
      "text/html": [
       "<div>\n",
       "<style scoped>\n",
       "    .dataframe tbody tr th:only-of-type {\n",
       "        vertical-align: middle;\n",
       "    }\n",
       "\n",
       "    .dataframe tbody tr th {\n",
       "        vertical-align: top;\n",
       "    }\n",
       "\n",
       "    .dataframe thead th {\n",
       "        text-align: right;\n",
       "    }\n",
       "</style>\n",
       "<table border=\"1\" class=\"dataframe\">\n",
       "  <thead>\n",
       "    <tr style=\"text-align: right;\">\n",
       "      <th>SF_TOT</th>\n",
       "      <th>(-5890.481, 152.912]</th>\n",
       "      <th>(152.912, 368.684]</th>\n",
       "      <th>(368.684, 945.46]</th>\n",
       "      <th>(945.46, 2282.99]</th>\n",
       "      <th>(2282.99, 4954.15]</th>\n",
       "      <th>(4954.15, 8746.52]</th>\n",
       "      <th>(8746.52, 13636.624]</th>\n",
       "      <th>(13636.624, 16957.174]</th>\n",
       "      <th>(16957.174, 25191.236]</th>\n",
       "      <th>(25191.236, 37967.46]</th>\n",
       "    </tr>\n",
       "  </thead>\n",
       "  <tbody>\n",
       "    <tr>\n",
       "      <th>1</th>\n",
       "      <td>0.06795</td>\n",
       "      <td>0.017282</td>\n",
       "      <td>0.036135</td>\n",
       "      <td>0.044383</td>\n",
       "      <td>0.065593</td>\n",
       "      <td>0.090731</td>\n",
       "      <td>0.11194</td>\n",
       "      <td>0.116654</td>\n",
       "      <td>0.161822</td>\n",
       "      <td>0.28751</td>\n",
       "    </tr>\n",
       "  </tbody>\n",
       "</table>\n",
       "</div>"
      ],
      "text/plain": [
       "SF_TOT  (-5890.481, 152.912]  (152.912, 368.684]  (368.684, 945.46]  \\\n",
       "1                    0.06795            0.017282           0.036135   \n",
       "\n",
       "SF_TOT  (945.46, 2282.99]  (2282.99, 4954.15]  (4954.15, 8746.52]  \\\n",
       "1                0.044383            0.065593            0.090731   \n",
       "\n",
       "SF_TOT  (8746.52, 13636.624]  (13636.624, 16957.174]  (16957.174, 25191.236]  \\\n",
       "1                    0.11194                0.116654                0.161822   \n",
       "\n",
       "SF_TOT  (25191.236, 37967.46]  \n",
       "1                     0.28751  "
      ]
     },
     "execution_count": 42,
     "metadata": {},
     "output_type": "execute_result"
    }
   ],
   "source": [
    "# Deciles for the SF_TOT variable:\n",
    "\n",
    "dec_sf_tot = pd.qcut(customer.SF_TOT[customer.SF_TOT.isnull()==False],q=10)\n",
    "(pd.crosstab(customer[customer.SF_TOT.isnull()==False].CIBLE,dec_sf_tot).iloc[1,:].to_frame()/np.sum(customer.CIBLE==1)).transpose()"
   ]
  },
  {
   "cell_type": "code",
   "execution_count": 43,
   "metadata": {},
   "outputs": [
    {
     "data": {
      "image/png": "[encoded data removed]",
      "text/plain": [
       "<Figure size 720x432 with 1 Axes>"
      ]
     },
     "metadata": {},
     "output_type": "display_data"
    }
   ],
   "source": [
    "# see the percentage of customers moved to the next highest segment for each decile\n",
    "(pd.crosstab(customer.CIBLE,dec_sf_tot).iloc[1,:].to_frame()/np.sum(customer.CIBLE==1)).plot(kind='bar')\n",
    "plt.title('% of customers moved to the next highest segment by decile of the variable SF_TOT')\n",
    "plt.hlines(y=0.0542288059253328, xmin=-1, xmax=10, colors='red', linestyles='solid')\n",
    "plt.text(x=-0.4, y=0.07, s='% de clients passés au segment supérieur globalement')\n",
    "plt.show()\n",
    "\n"
   ]
  },
  {
   "cell_type": "markdown",
   "metadata": {},
   "source": [
    "Here, the deciles below the bar are put together and the others together."
   ]
  },
  {
   "cell_type": "code",
   "execution_count": 44,
   "metadata": {},
   "outputs": [],
   "source": [
    "customer['D_SF_TOT'] = 'Manquant'\n",
    "customer['D_SF_TOT'][((customer.SF_TOT <= 156.912) | (customer.SF_TOT > 2282.99)) & (customer.SF_TOT.isnull()==False) ] = '< 156.912 or >2282.99'\n",
    "customer['D_SF_TOT'][(customer.SF_TOT <= 2282.99) & (customer.SF_TOT > 156.912) & (customer.SF_TOT.isnull()==False)] = '156.912-2282.99'\n",
    "\n"
   ]
  },
  {
   "cell_type": "markdown",
   "metadata": {},
   "source": [
    "Here, we evaluate the discriminative power of the discretized variable. We can see that discrimination is somewhat present."
   ]
  },
  {
   "cell_type": "code",
   "execution_count": 45,
   "metadata": {},
   "outputs": [
    {
     "data": {
      "text/html": [
       "<div>\n",
       "<style scoped>\n",
       "    .dataframe tbody tr th:only-of-type {\n",
       "        vertical-align: middle;\n",
       "    }\n",
       "\n",
       "    .dataframe tbody tr th {\n",
       "        vertical-align: top;\n",
       "    }\n",
       "\n",
       "    .dataframe thead th {\n",
       "        text-align: right;\n",
       "    }\n",
       "</style>\n",
       "<table border=\"1\" class=\"dataframe\">\n",
       "  <thead>\n",
       "    <tr style=\"text-align: right;\">\n",
       "      <th>D_SF_TOT</th>\n",
       "      <th>156.912-2282.99</th>\n",
       "      <th>&lt; 156.912 or &gt;2282.99</th>\n",
       "    </tr>\n",
       "    <tr>\n",
       "      <th>CIBLE</th>\n",
       "      <th></th>\n",
       "      <th></th>\n",
       "    </tr>\n",
       "  </thead>\n",
       "  <tbody>\n",
       "    <tr>\n",
       "      <th>0</th>\n",
       "      <td>0.310104</td>\n",
       "      <td>0.689896</td>\n",
       "    </tr>\n",
       "    <tr>\n",
       "      <th>1</th>\n",
       "      <td>0.097408</td>\n",
       "      <td>0.902592</td>\n",
       "    </tr>\n",
       "  </tbody>\n",
       "</table>\n",
       "</div>"
      ],
      "text/plain": [
       "D_SF_TOT  156.912-2282.99  < 156.912 or >2282.99\n",
       "CIBLE                                           \n",
       "0                0.310104               0.689896\n",
       "1                0.097408               0.902592"
      ]
     },
     "execution_count": 45,
     "metadata": {},
     "output_type": "execute_result"
    }
   ],
   "source": [
    "pd.crosstab(customer.CIBLE,customer.D_SF_TOT).div(pd.crosstab(customer.CIBLE,customer.D_SF_TOT).sum(1).astype(float), axis=0)\n",
    "\n"
   ]
  },
  {
   "cell_type": "markdown",
   "metadata": {},
   "source": [
    "Deciles for the AGE variable:"
   ]
  },
  {
   "cell_type": "markdown",
   "metadata": {},
   "source": [
    "Here, we can see that the deciles are close in each of the deciles."
   ]
  },
  {
   "cell_type": "code",
   "execution_count": 46,
   "metadata": {},
   "outputs": [
    {
     "data": {
      "text/html": [
       "<div>\n",
       "<style scoped>\n",
       "    .dataframe tbody tr th:only-of-type {\n",
       "        vertical-align: middle;\n",
       "    }\n",
       "\n",
       "    .dataframe tbody tr th {\n",
       "        vertical-align: top;\n",
       "    }\n",
       "\n",
       "    .dataframe thead th {\n",
       "        text-align: right;\n",
       "    }\n",
       "</style>\n",
       "<table border=\"1\" class=\"dataframe\">\n",
       "  <thead>\n",
       "    <tr style=\"text-align: right;\">\n",
       "      <th>AGE</th>\n",
       "      <th>(25.999, 36.0]</th>\n",
       "      <th>(36.0, 42.0]</th>\n",
       "      <th>(42.0, 47.0]</th>\n",
       "      <th>(47.0, 52.0]</th>\n",
       "      <th>(52.0, 57.0]</th>\n",
       "      <th>(57.0, 61.0]</th>\n",
       "      <th>(61.0, 65.0]</th>\n",
       "      <th>(65.0, 71.0]</th>\n",
       "      <th>(71.0, 77.0]</th>\n",
       "      <th>(77.0, 84.0]</th>\n",
       "    </tr>\n",
       "  </thead>\n",
       "  <tbody>\n",
       "    <tr>\n",
       "      <th>1</th>\n",
       "      <td>0.084839</td>\n",
       "      <td>0.079733</td>\n",
       "      <td>0.084446</td>\n",
       "      <td>0.10487</td>\n",
       "      <td>0.120581</td>\n",
       "      <td>0.120189</td>\n",
       "      <td>0.102907</td>\n",
       "      <td>0.119403</td>\n",
       "      <td>0.104478</td>\n",
       "      <td>0.078555</td>\n",
       "    </tr>\n",
       "  </tbody>\n",
       "</table>\n",
       "</div>"
      ],
      "text/plain": [
       "AGE  (25.999, 36.0]  (36.0, 42.0]  (42.0, 47.0]  (47.0, 52.0]  (52.0, 57.0]  \\\n",
       "1          0.084839      0.079733      0.084446       0.10487      0.120581   \n",
       "\n",
       "AGE  (57.0, 61.0]  (61.0, 65.0]  (65.0, 71.0]  (71.0, 77.0]  (77.0, 84.0]  \n",
       "1        0.120189      0.102907      0.119403      0.104478      0.078555  "
      ]
     },
     "execution_count": 46,
     "metadata": {},
     "output_type": "execute_result"
    }
   ],
   "source": [
    "dec_age = pd.qcut(customer.AGE[customer.AGE.isnull()==False],q=10)\n",
    "(pd.crosstab(customer.CIBLE,dec_age).iloc[1,:].to_frame()/np.sum(customer.CIBLE==1)).transpose()\n",
    "\n"
   ]
  },
  {
   "cell_type": "markdown",
   "metadata": {},
   "source": []
  },
  {
   "cell_type": "markdown",
   "metadata": {},
   "source": [
    "Deciles for the sf_hors_cdd variable:\n",
    "    \n",
    "    "
   ]
  },
  {
   "cell_type": "code",
   "execution_count": 47,
   "metadata": {},
   "outputs": [
    {
     "data": {
      "text/html": [
       "<div>\n",
       "<style scoped>\n",
       "    .dataframe tbody tr th:only-of-type {\n",
       "        vertical-align: middle;\n",
       "    }\n",
       "\n",
       "    .dataframe tbody tr th {\n",
       "        vertical-align: top;\n",
       "    }\n",
       "\n",
       "    .dataframe thead th {\n",
       "        text-align: right;\n",
       "    }\n",
       "</style>\n",
       "<table border=\"1\" class=\"dataframe\">\n",
       "  <thead>\n",
       "    <tr style=\"text-align: right;\">\n",
       "      <th>SF_HORS_CDD</th>\n",
       "      <th>(-0.001, 112.918]</th>\n",
       "      <th>(112.918, 407.926]</th>\n",
       "      <th>(407.926, 1420.696]</th>\n",
       "      <th>(1420.696, 4049.86]</th>\n",
       "      <th>(4049.86, 7923.99]</th>\n",
       "      <th>(7923.99, 12791.246]</th>\n",
       "      <th>(12791.246, 16291.944]</th>\n",
       "      <th>(16291.944, 23837.224]</th>\n",
       "      <th>(23837.224, 37867.64]</th>\n",
       "    </tr>\n",
       "  </thead>\n",
       "  <tbody>\n",
       "    <tr>\n",
       "      <th>1</th>\n",
       "      <td>0.122152</td>\n",
       "      <td>0.02828</td>\n",
       "      <td>0.034564</td>\n",
       "      <td>0.05381</td>\n",
       "      <td>0.087196</td>\n",
       "      <td>0.115082</td>\n",
       "      <td>0.117439</td>\n",
       "      <td>0.155145</td>\n",
       "      <td>0.286332</td>\n",
       "    </tr>\n",
       "  </tbody>\n",
       "</table>\n",
       "</div>"
      ],
      "text/plain": [
       "SF_HORS_CDD  (-0.001, 112.918]  (112.918, 407.926]  (407.926, 1420.696]  \\\n",
       "1                     0.122152             0.02828             0.034564   \n",
       "\n",
       "SF_HORS_CDD  (1420.696, 4049.86]  (4049.86, 7923.99]  (7923.99, 12791.246]  \\\n",
       "1                        0.05381            0.087196              0.115082   \n",
       "\n",
       "SF_HORS_CDD  (12791.246, 16291.944]  (16291.944, 23837.224]  \\\n",
       "1                          0.117439                0.155145   \n",
       "\n",
       "SF_HORS_CDD  (23837.224, 37867.64]  \n",
       "1                         0.286332  "
      ]
     },
     "execution_count": 47,
     "metadata": {},
     "output_type": "execute_result"
    }
   ],
   "source": [
    "dec_sf_hors_cdd = pd.qcut(customer.SF_HORS_CDD[customer.SF_HORS_CDD.isnull()==False],q=10,duplicates='drop')\n",
    "(pd.crosstab(customer.CIBLE,dec_sf_hors_cdd).iloc[1,:].to_frame()/np.sum(customer.CIBLE==1)).transpose()\n",
    "\n"
   ]
  },
  {
   "cell_type": "code",
   "execution_count": 48,
   "metadata": {},
   "outputs": [],
   "source": [
    "# grouping some deciles:\n",
    "customer['D_SF_HORS_CDD'] = 'Manquant'\n",
    "customer['D_SF_HORS_CDD'][((customer.SF_HORS_CDD <= 112.918) | (customer.SF_HORS_CDD > 12791.246)) & (customer.SF_HORS_CDD.isnull()==False) ] = 'inf 112.918 ou sup 12791.246'\n",
    "customer['D_SF_HORS_CDD'][(customer.SF_HORS_CDD <= 12791.246) & (customer.SF_HORS_CDD > 112.918) & (customer.SF_HORS_CDD.isnull()==False)] = '112.918 -12791.246'\n",
    "\n"
   ]
  },
  {
   "cell_type": "markdown",
   "metadata": {},
   "source": [
    "Deciles for the MOY_MT_EP_DISPO_ANC variable:"
   ]
  },
  {
   "cell_type": "code",
   "execution_count": 49,
   "metadata": {},
   "outputs": [
    {
     "data": {
      "text/html": [
       "<div>\n",
       "<style scoped>\n",
       "    .dataframe tbody tr th:only-of-type {\n",
       "        vertical-align: middle;\n",
       "    }\n",
       "\n",
       "    .dataframe tbody tr th {\n",
       "        vertical-align: top;\n",
       "    }\n",
       "\n",
       "    .dataframe thead th {\n",
       "        text-align: right;\n",
       "    }\n",
       "</style>\n",
       "<table border=\"1\" class=\"dataframe\">\n",
       "  <thead>\n",
       "    <tr style=\"text-align: right;\">\n",
       "      <th>MOY_MT_EP_DISPO_ANC</th>\n",
       "      <th>(-1962.481, 3.361]</th>\n",
       "      <th>(3.361, 12.097]</th>\n",
       "      <th>(12.097, 31.911]</th>\n",
       "      <th>(31.911, 79.44]</th>\n",
       "      <th>(79.44, 169.557]</th>\n",
       "      <th>(169.557, 307.305]</th>\n",
       "      <th>(307.305, 459.204]</th>\n",
       "      <th>(459.204, 656.899]</th>\n",
       "      <th>(656.899, 1126.293]</th>\n",
       "      <th>(1126.293, 361200.0]</th>\n",
       "    </tr>\n",
       "  </thead>\n",
       "  <tbody>\n",
       "    <tr>\n",
       "      <th>1</th>\n",
       "      <td>0.068342</td>\n",
       "      <td>0.0326</td>\n",
       "      <td>0.042812</td>\n",
       "      <td>0.05381</td>\n",
       "      <td>0.081697</td>\n",
       "      <td>0.109584</td>\n",
       "      <td>0.131972</td>\n",
       "      <td>0.139042</td>\n",
       "      <td>0.166929</td>\n",
       "      <td>0.173213</td>\n",
       "    </tr>\n",
       "  </tbody>\n",
       "</table>\n",
       "</div>"
      ],
      "text/plain": [
       "MOY_MT_EP_DISPO_ANC  (-1962.481, 3.361]  (3.361, 12.097]  (12.097, 31.911]  \\\n",
       "1                              0.068342           0.0326          0.042812   \n",
       "\n",
       "MOY_MT_EP_DISPO_ANC  (31.911, 79.44]  (79.44, 169.557]  (169.557, 307.305]  \\\n",
       "1                            0.05381          0.081697            0.109584   \n",
       "\n",
       "MOY_MT_EP_DISPO_ANC  (307.305, 459.204]  (459.204, 656.899]  \\\n",
       "1                              0.131972            0.139042   \n",
       "\n",
       "MOY_MT_EP_DISPO_ANC  (656.899, 1126.293]  (1126.293, 361200.0]  \n",
       "1                               0.166929              0.173213  "
      ]
     },
     "execution_count": 49,
     "metadata": {},
     "output_type": "execute_result"
    }
   ],
   "source": [
    "dec_mt_ep_dispo_anc = pd.qcut(customer.MOY_MT_EP_DISPO_ANC[customer.MOY_MT_EP_DISPO_ANC.isnull()==False],q=10,duplicates='drop')\n",
    "(pd.crosstab(customer.CIBLE,dec_mt_ep_dispo_anc).iloc[1,:].to_frame()/np.sum(customer.CIBLE==1)).transpose()\n",
    "\n"
   ]
  },
  {
   "cell_type": "code",
   "execution_count": 50,
   "metadata": {},
   "outputs": [],
   "source": [
    "# grouping some deciles:\n",
    "customer['D_MOY_MT_EP_DISPO_ANC'] = 'Manquant'\n",
    "customer['D_MOY_MT_EP_DISPO_ANC'][(customer.MOY_MT_EP_DISPO_ANC <= 169.557) & (customer.MOY_MT_EP_DISPO_ANC.isnull()==False) ] = 'inf 169.557'\n",
    "customer['D_MOY_MT_EP_DISPO_ANC'][(customer.MOY_MT_EP_DISPO_ANC > 169.557) & (customer.MOY_MT_EP_DISPO_ANC.isnull()==False)] = 'sup 169.557'"
   ]
  },
  {
   "cell_type": "code",
   "execution_count": null,
   "metadata": {},
   "outputs": [],
   "source": []
  },
  {
   "cell_type": "code",
   "execution_count": 51,
   "metadata": {},
   "outputs": [],
   "source": [
    "# Categorizing the variable NB_PRODUITS\n",
    "customer['D_NB_PRODUITS'] = 'Manquant'\n",
    "customer['D_NB_PRODUITS'] = np.where(customer.NB_PRODUITS > 2, '>2', '<=2')\n"
   ]
  },
  {
   "cell_type": "code",
   "execution_count": 52,
   "metadata": {},
   "outputs": [],
   "source": [
    "# Changing these variables into categorical type:\n",
    "cols_D = ['D_SF_TOT', 'D_SF_HORS_CDD', 'D_MOY_MT_EP_DISPO_ANC', 'D_NB_PRODUITS']\n",
    "customer_D = customer.loc[:,cols_D]\n",
    "customer_D.fillna('Manquant',inplace=True)\n",
    "customer_D = customer_D.astype('category')\n",
    "\n"
   ]
  },
  {
   "cell_type": "code",
   "execution_count": 53,
   "metadata": {},
   "outputs": [],
   "source": [
    "# here we are using LabelEncoder to normalize labels in the categorical variables\n",
    "le= LabelEncoder()\n",
    "customer_DE= customer_D[cols_D].apply(lambda col: le.fit_transform(col))\n",
    "customer_DE = customer_DE.astype('category')\n",
    "customer_DD = pd.get_dummies(customer_DE,drop_first=True)\n",
    "\n"
   ]
  },
  {
   "cell_type": "code",
   "execution_count": 54,
   "metadata": {},
   "outputs": [],
   "source": [
    "cols_N = ['AGE', 'ANC', 'NB_PRODUITS', 'SF_TOT', 'SF_HORS_CDD', 'MT_EP_DISPO',\n",
    "       'ANC_DER_MVT', 'SF_TOT_M6', 'SF_HORS_CDD_M6', 'SF_CDD', 'SF_CDD_M6',\n",
    "       'MOY_NB_MVT_CDD_12M', 'MOY_MVT_CRE_CDD_12M', 'MOY_MVT_DEB_CDD_12M',\n",
    "       'NB_PAIEMENT_CARTE', 'MT_PAIEMENT_CARTE', 'SF_LVA', 'SF_LVB', 'SF_LDD',\n",
    "       'SF_LEP', 'SF_LVA_M6', 'SF_LVB_M6', 'SF_LDD_M6', 'SF_LEP_M6', 'SF_PEL',\n",
    "       'SF_PEL_M6', 'SF_CTO', 'SF_ASV', 'SF_CTO_M6',\n",
    "       'SF_ASV_M6', 'NB_PEI', 'Moy_SF_TOT/Prod', 'Diff_SF_LivA',\n",
    "       'Diff_SF_LivB', 'Diff_SF_LDD', 'Diff_SF_LEP', 'Diff_SF_CDD',\n",
    "       'Diff_SF_TOT', 'Diff_SF_HORS_CDD', 'Diff_SF_PEL', 'Diff_SF_CTO',\n",
    "       'Diff_Mvt_Moy', 'MOY_MT_EP_DISPO_ANC',\n",
    "       'MOY_SF_TOT_ANC', 'MOY_SF_HORS_CDD_ANC', 'MOY_MOY_NB_MVT_CDD_12M_ANC',\n",
    "       'Diff_LVA_LVB', 'Diff_LVA_LEP', 'Diff_LVB_LEP']\n",
    "customer_N = customer.loc[:,cols_N]\n",
    "#from sklearn.preprocessing import StandardScaler\n",
    "#client_N = pd.DataFrame(StandardScaler().fit_transform(client_N),columns = cols_N)\n",
    "customer_N.fillna(-1,inplace=True)\n",
    "\n"
   ]
  },
  {
   "cell_type": "code",
   "execution_count": 55,
   "metadata": {},
   "outputs": [],
   "source": [
    "cols_R = ['FLAG_CDD', 'FLAG_CBI', 'FLAG_VISA1',\n",
    " 'FLAG_LVA', 'FLAG_LVB', 'FLAG_LDD', 'FLAG_LEP', 'FLAG_PEL', 'FLAG_CTO', 'FLAG_PEA', 'FLAG_ASV',\n",
    " 'FLAG_CONSO', 'FLAG_IMMO', 'FLAG_REVOLVING']\n",
    "\n"
   ]
  },
  {
   "cell_type": "code",
   "execution_count": 56,
   "metadata": {},
   "outputs": [],
   "source": [
    "# the final prepared dataset with the variable needed:\n",
    "customer_ALL = pd.concat([customer.loc[:,cols_R].astype('category'),customer_DD.astype('category'),customer_N.astype(float)],axis=1)\n",
    "\n"
   ]
  },
  {
   "cell_type": "markdown",
   "metadata": {},
   "source": [
    "Profile of customers who have changed segment"
   ]
  },
  {
   "cell_type": "code",
   "execution_count": 57,
   "metadata": {},
   "outputs": [
    {
     "data": {
      "text/html": [
       "<div>\n",
       "<style scoped>\n",
       "    .dataframe tbody tr th:only-of-type {\n",
       "        vertical-align: middle;\n",
       "    }\n",
       "\n",
       "    .dataframe tbody tr th {\n",
       "        vertical-align: top;\n",
       "    }\n",
       "\n",
       "    .dataframe thead th {\n",
       "        text-align: right;\n",
       "    }\n",
       "</style>\n",
       "<table border=\"1\" class=\"dataframe\">\n",
       "  <thead>\n",
       "    <tr style=\"text-align: right;\">\n",
       "      <th></th>\n",
       "      <th>AGE</th>\n",
       "      <th>ANC</th>\n",
       "      <th>NB_PRODUITS</th>\n",
       "      <th>SF_TOT</th>\n",
       "      <th>SF_HORS_CDD</th>\n",
       "      <th>MT_EP_DISPO</th>\n",
       "      <th>ANC_DER_MVT</th>\n",
       "      <th>SF_TOT_M6</th>\n",
       "      <th>SF_HORS_CDD_M6</th>\n",
       "      <th>SF_CDD</th>\n",
       "      <th>SF_CDD_M6</th>\n",
       "      <th>MOY_NB_MVT_CDD_12M</th>\n",
       "      <th>MOY_MVT_CRE_CDD_12M</th>\n",
       "      <th>MOY_MVT_DEB_CDD_12M</th>\n",
       "      <th>NB_PAIEMENT_CARTE</th>\n",
       "      <th>MT_PAIEMENT_CARTE</th>\n",
       "      <th>SF_LVA</th>\n",
       "      <th>SF_LVB</th>\n",
       "      <th>SF_LDD</th>\n",
       "      <th>SF_LEP</th>\n",
       "      <th>SF_LVA_M6</th>\n",
       "      <th>SF_LVB_M6</th>\n",
       "      <th>SF_LDD_M6</th>\n",
       "      <th>SF_LEP_M6</th>\n",
       "      <th>SF_PEL</th>\n",
       "      <th>SF_PEL_M6</th>\n",
       "      <th>SF_CTO</th>\n",
       "      <th>SF_PEA</th>\n",
       "      <th>SF_ASV</th>\n",
       "      <th>SF_CTO_M6</th>\n",
       "      <th>SF_PEA_M6</th>\n",
       "      <th>SF_ASV_M6</th>\n",
       "      <th>NB_PEI</th>\n",
       "      <th>Moy_SF_TOT/Prod</th>\n",
       "      <th>Diff_SF_LivA</th>\n",
       "      <th>Diff_SF_LivB</th>\n",
       "      <th>Diff_SF_LDD</th>\n",
       "      <th>Diff_SF_LEP</th>\n",
       "      <th>Diff_SF_CDD</th>\n",
       "      <th>Diff_SF_TOT</th>\n",
       "      <th>Diff_SF_HORS_CDD</th>\n",
       "      <th>Diff_SF_PEL</th>\n",
       "      <th>Diff_SF_CTO</th>\n",
       "      <th>Diff_Mvt_Moy</th>\n",
       "      <th>MOY_MT_EP_DISPO_ANC</th>\n",
       "      <th>MOY_SF_TOT_ANC</th>\n",
       "      <th>MOY_SF_HORS_CDD_ANC</th>\n",
       "      <th>MOY_MOY_NB_MVT_CDD_12M_ANC</th>\n",
       "      <th>Diff_LVA_LVB</th>\n",
       "      <th>Diff_LVA_LEP</th>\n",
       "      <th>Diff_LVB_LEP</th>\n",
       "      <th>Nb_Prod_Encours</th>\n",
       "    </tr>\n",
       "    <tr>\n",
       "      <th>CIBLE</th>\n",
       "      <th></th>\n",
       "      <th></th>\n",
       "      <th></th>\n",
       "      <th></th>\n",
       "      <th></th>\n",
       "      <th></th>\n",
       "      <th></th>\n",
       "      <th></th>\n",
       "      <th></th>\n",
       "      <th></th>\n",
       "      <th></th>\n",
       "      <th></th>\n",
       "      <th></th>\n",
       "      <th></th>\n",
       "      <th></th>\n",
       "      <th></th>\n",
       "      <th></th>\n",
       "      <th></th>\n",
       "      <th></th>\n",
       "      <th></th>\n",
       "      <th></th>\n",
       "      <th></th>\n",
       "      <th></th>\n",
       "      <th></th>\n",
       "      <th></th>\n",
       "      <th></th>\n",
       "      <th></th>\n",
       "      <th></th>\n",
       "      <th></th>\n",
       "      <th></th>\n",
       "      <th></th>\n",
       "      <th></th>\n",
       "      <th></th>\n",
       "      <th></th>\n",
       "      <th></th>\n",
       "      <th></th>\n",
       "      <th></th>\n",
       "      <th></th>\n",
       "      <th></th>\n",
       "      <th></th>\n",
       "      <th></th>\n",
       "      <th></th>\n",
       "      <th></th>\n",
       "      <th></th>\n",
       "      <th></th>\n",
       "      <th></th>\n",
       "      <th></th>\n",
       "      <th></th>\n",
       "      <th></th>\n",
       "      <th></th>\n",
       "      <th></th>\n",
       "      <th></th>\n",
       "    </tr>\n",
       "  </thead>\n",
       "  <tbody>\n",
       "    <tr>\n",
       "      <th>0</th>\n",
       "      <td>56.296520</td>\n",
       "      <td>23.445542</td>\n",
       "      <td>2.118873</td>\n",
       "      <td>8798.619904</td>\n",
       "      <td>8063.929682</td>\n",
       "      <td>6957.828734</td>\n",
       "      <td>2.016560</td>\n",
       "      <td>8684.888672</td>\n",
       "      <td>7964.095415</td>\n",
       "      <td>1254.039866</td>\n",
       "      <td>1242.590559</td>\n",
       "      <td>7.178607</td>\n",
       "      <td>828.943600</td>\n",
       "      <td>826.881146</td>\n",
       "      <td>0.997179</td>\n",
       "      <td>292.78</td>\n",
       "      <td>6509.927754</td>\n",
       "      <td>10836.862643</td>\n",
       "      <td>3468.920761</td>\n",
       "      <td>6292.824078</td>\n",
       "      <td>6504.027765</td>\n",
       "      <td>11759.797657</td>\n",
       "      <td>3429.185749</td>\n",
       "      <td>6185.208899</td>\n",
       "      <td>16836.2319</td>\n",
       "      <td>16809.169526</td>\n",
       "      <td>8377.999196</td>\n",
       "      <td>0.0</td>\n",
       "      <td>17099.055659</td>\n",
       "      <td>8531.950002</td>\n",
       "      <td>0.0</td>\n",
       "      <td>16687.076061</td>\n",
       "      <td>0.155418</td>\n",
       "      <td>3932.962108</td>\n",
       "      <td>6.072474</td>\n",
       "      <td>-1334.892501</td>\n",
       "      <td>17.618460</td>\n",
       "      <td>86.483774</td>\n",
       "      <td>18.967912</td>\n",
       "      <td>115.673712</td>\n",
       "      <td>100.882234</td>\n",
       "      <td>451.016183</td>\n",
       "      <td>-28.646193</td>\n",
       "      <td>2.062454</td>\n",
       "      <td>694.094456</td>\n",
       "      <td>924.506773</td>\n",
       "      <td>853.285068</td>\n",
       "      <td>0.653837</td>\n",
       "      <td>1176.607009</td>\n",
       "      <td>-1106.002972</td>\n",
       "      <td>5470.691725</td>\n",
       "      <td>1.782051</td>\n",
       "    </tr>\n",
       "    <tr>\n",
       "      <th>1</th>\n",
       "      <td>57.518853</td>\n",
       "      <td>23.042158</td>\n",
       "      <td>2.661037</td>\n",
       "      <td>17089.960515</td>\n",
       "      <td>15752.163839</td>\n",
       "      <td>11481.224611</td>\n",
       "      <td>1.691864</td>\n",
       "      <td>16151.483155</td>\n",
       "      <td>14934.065783</td>\n",
       "      <td>1662.312638</td>\n",
       "      <td>1623.061956</td>\n",
       "      <td>9.712755</td>\n",
       "      <td>1387.530612</td>\n",
       "      <td>1373.154082</td>\n",
       "      <td>1.062500</td>\n",
       "      <td>292.78</td>\n",
       "      <td>9013.356682</td>\n",
       "      <td>13210.683095</td>\n",
       "      <td>4216.764220</td>\n",
       "      <td>7035.573459</td>\n",
       "      <td>8829.503719</td>\n",
       "      <td>13539.546581</td>\n",
       "      <td>4287.486866</td>\n",
       "      <td>6946.497769</td>\n",
       "      <td>19748.0065</td>\n",
       "      <td>19969.396816</td>\n",
       "      <td>9047.764613</td>\n",
       "      <td>0.0</td>\n",
       "      <td>18097.391861</td>\n",
       "      <td>8852.910069</td>\n",
       "      <td>0.0</td>\n",
       "      <td>17617.928525</td>\n",
       "      <td>0.423802</td>\n",
       "      <td>6316.343092</td>\n",
       "      <td>212.544497</td>\n",
       "      <td>-496.234547</td>\n",
       "      <td>2.249395</td>\n",
       "      <td>113.527336</td>\n",
       "      <td>86.177644</td>\n",
       "      <td>952.762674</td>\n",
       "      <td>837.167611</td>\n",
       "      <td>894.069302</td>\n",
       "      <td>275.651215</td>\n",
       "      <td>14.376531</td>\n",
       "      <td>1385.491625</td>\n",
       "      <td>2032.061592</td>\n",
       "      <td>1850.520911</td>\n",
       "      <td>1.158108</td>\n",
       "      <td>440.567829</td>\n",
       "      <td>-153.009133</td>\n",
       "      <td>1134.559071</td>\n",
       "      <td>2.606441</td>\n",
       "    </tr>\n",
       "  </tbody>\n",
       "</table>\n",
       "</div>"
      ],
      "text/plain": [
       "             AGE        ANC  NB_PRODUITS        SF_TOT   SF_HORS_CDD  \\\n",
       "CIBLE                                                                  \n",
       "0      56.296520  23.445542     2.118873   8798.619904   8063.929682   \n",
       "1      57.518853  23.042158     2.661037  17089.960515  15752.163839   \n",
       "\n",
       "        MT_EP_DISPO  ANC_DER_MVT     SF_TOT_M6  SF_HORS_CDD_M6       SF_CDD  \\\n",
       "CIBLE                                                                         \n",
       "0       6957.828734     2.016560   8684.888672     7964.095415  1254.039866   \n",
       "1      11481.224611     1.691864  16151.483155    14934.065783  1662.312638   \n",
       "\n",
       "         SF_CDD_M6  MOY_NB_MVT_CDD_12M  MOY_MVT_CRE_CDD_12M  \\\n",
       "CIBLE                                                         \n",
       "0      1242.590559            7.178607           828.943600   \n",
       "1      1623.061956            9.712755          1387.530612   \n",
       "\n",
       "       MOY_MVT_DEB_CDD_12M  NB_PAIEMENT_CARTE  MT_PAIEMENT_CARTE       SF_LVA  \\\n",
       "CIBLE                                                                           \n",
       "0               826.881146           0.997179             292.78  6509.927754   \n",
       "1              1373.154082           1.062500             292.78  9013.356682   \n",
       "\n",
       "             SF_LVB       SF_LDD       SF_LEP    SF_LVA_M6     SF_LVB_M6  \\\n",
       "CIBLE                                                                      \n",
       "0      10836.862643  3468.920761  6292.824078  6504.027765  11759.797657   \n",
       "1      13210.683095  4216.764220  7035.573459  8829.503719  13539.546581   \n",
       "\n",
       "         SF_LDD_M6    SF_LEP_M6      SF_PEL     SF_PEL_M6       SF_CTO  \\\n",
       "CIBLE                                                                    \n",
       "0      3429.185749  6185.208899  16836.2319  16809.169526  8377.999196   \n",
       "1      4287.486866  6946.497769  19748.0065  19969.396816  9047.764613   \n",
       "\n",
       "       SF_PEA        SF_ASV    SF_CTO_M6  SF_PEA_M6     SF_ASV_M6    NB_PEI  \\\n",
       "CIBLE                                                                         \n",
       "0         0.0  17099.055659  8531.950002        0.0  16687.076061  0.155418   \n",
       "1         0.0  18097.391861  8852.910069        0.0  17617.928525  0.423802   \n",
       "\n",
       "       Moy_SF_TOT/Prod  Diff_SF_LivA  Diff_SF_LivB  Diff_SF_LDD  Diff_SF_LEP  \\\n",
       "CIBLE                                                                          \n",
       "0          3932.962108      6.072474  -1334.892501    17.618460    86.483774   \n",
       "1          6316.343092    212.544497   -496.234547     2.249395   113.527336   \n",
       "\n",
       "       Diff_SF_CDD  Diff_SF_TOT  Diff_SF_HORS_CDD  Diff_SF_PEL  Diff_SF_CTO  \\\n",
       "CIBLE                                                                         \n",
       "0        18.967912   115.673712        100.882234   451.016183   -28.646193   \n",
       "1        86.177644   952.762674        837.167611   894.069302   275.651215   \n",
       "\n",
       "       Diff_Mvt_Moy  MOY_MT_EP_DISPO_ANC  MOY_SF_TOT_ANC  MOY_SF_HORS_CDD_ANC  \\\n",
       "CIBLE                                                                           \n",
       "0          2.062454           694.094456      924.506773           853.285068   \n",
       "1         14.376531          1385.491625     2032.061592          1850.520911   \n",
       "\n",
       "       MOY_MOY_NB_MVT_CDD_12M_ANC  Diff_LVA_LVB  Diff_LVA_LEP  Diff_LVB_LEP  \\\n",
       "CIBLE                                                                         \n",
       "0                        0.653837   1176.607009  -1106.002972   5470.691725   \n",
       "1                        1.158108    440.567829   -153.009133   1134.559071   \n",
       "\n",
       "       Nb_Prod_Encours  \n",
       "CIBLE                   \n",
       "0             1.782051  \n",
       "1             2.606441  "
      ]
     },
     "execution_count": 57,
     "metadata": {},
     "output_type": "execute_result"
    }
   ],
   "source": [
    "customer.groupby(customer.CIBLE).mean()"
   ]
  },
  {
   "cell_type": "markdown",
   "metadata": {},
   "source": [
    "We can see here that customers who changed segment have the following characteristics:\n",
    "\n",
    "\n",
    "* They have a total balance on all the products held twice as high on average as the others.\n",
    "\n",
    "* They have a total balance on all the products held, apart from the deposit account, almost twice as high on average as the others.\n",
    "\n",
    "* They have almost twice the amount of savings available on average than others.\n",
    "\n",
    "* They have a slightly higher amount of available balance on their Livret A than the others.\n",
    "\n",
    "* They have a ratio of available balance per product twice as high as the others.\n",
    "\n",
    "* The difference between the balance on the livret A for the current month and that 6 months ago is much higher on average compared to the other customers.\n",
    "\n",
    "* Customers in the upper segment tended to have a total number of products strictly greater than 2.\n",
    "\n",
    "\n",
    "\n",
    "\n"
   ]
  },
  {
   "cell_type": "markdown",
   "metadata": {},
   "source": [
    "-----"
   ]
  },
  {
   "cell_type": "markdown",
   "metadata": {},
   "source": [
    "### 3. Separation of training set and validation set\n",
    "\n",
    "\n",
    "Here we divide our main data set into a training and testing set. (70-30)"
   ]
  },
  {
   "cell_type": "code",
   "execution_count": 58,
   "metadata": {},
   "outputs": [],
   "source": [
    "X_train, X_test, y_train, y_test = train_test_split(customer_ALL, customer.CIBLE, \n",
    "test_size = 0.3,stratify=customer.CIBLE)\n",
    "\n"
   ]
  },
  {
   "cell_type": "code",
   "execution_count": 59,
   "metadata": {},
   "outputs": [
    {
     "data": {
      "text/plain": [
       "0    29631\n",
       "1     1782\n",
       "Name: CIBLE, dtype: int64"
      ]
     },
     "execution_count": 59,
     "metadata": {},
     "output_type": "execute_result"
    }
   ],
   "source": [
    "y_train.value_counts()"
   ]
  },
  {
   "cell_type": "markdown",
   "metadata": {},
   "source": [
    "As we saw in part 1.1, the response variable has extremely imbalanced classes. Here, we rebalance our training sample by reducing the majority class by almost 50% and adjusting the minority class to the same levelby creating synthetic data.\n",
    "\n"
   ]
  },
  {
   "cell_type": "code",
   "execution_count": 60,
   "metadata": {},
   "outputs": [],
   "source": [
    "from imblearn.under_sampling import (RandomUnderSampler)\n",
    "from imblearn.over_sampling import SMOTE\n",
    "from imblearn.combine import SMOTETomek\n"
   ]
  },
  {
   "cell_type": "code",
   "execution_count": 61,
   "metadata": {},
   "outputs": [
    {
     "name": "stdout",
     "output_type": "stream",
     "text": [
      "RUS Counter({0: 17820, 1: 1782})\n",
      "SMOTE Counter({0: 17473, 1: 17473})\n"
     ]
    }
   ],
   "source": [
    "X,y = RandomUnderSampler(0.1).fit_sample(X_train, y_train)\n",
    "print('RUS {}'.format(Counter(y)))\n",
    "\n",
    "X,y = SMOTETomek(1).fit_sample(X, y)\n",
    "print('SMOTE {}'.format(Counter(y)))\n",
    "\n",
    "\n",
    "\n",
    "X = pd.DataFrame(X, columns= customer_ALL.columns)"
   ]
  },
  {
   "cell_type": "code",
   "execution_count": 62,
   "metadata": {},
   "outputs": [
    {
     "data": {
      "text/plain": [
       "Index(['D_SF_TOT_1', 'D_SF_HORS_CDD_1', 'D_MOY_MT_EP_DISPO_ANC_1',\n",
       "       'D_NB_PRODUITS_1'],\n",
       "      dtype='object')"
      ]
     },
     "execution_count": 62,
     "metadata": {},
     "output_type": "execute_result"
    }
   ],
   "source": [
    "X.columns[X.columns.str.startswith('D_')]"
   ]
  },
  {
   "cell_type": "code",
   "execution_count": 63,
   "metadata": {},
   "outputs": [],
   "source": [
    "X[cols_R]= X[cols_R].astype('category')\n",
    "X[['D_SF_TOT_1', 'D_SF_HORS_CDD_1', 'D_MOY_MT_EP_DISPO_ANC_1',\n",
    "       'D_NB_PRODUITS_1']]= X[['D_SF_TOT_1', 'D_SF_HORS_CDD_1', 'D_MOY_MT_EP_DISPO_ANC_1',\n",
    "       'D_NB_PRODUITS_1']].astype('category')\n",
    "\n"
   ]
  },
  {
   "cell_type": "markdown",
   "metadata": {},
   "source": [
    "-----"
   ]
  },
  {
   "cell_type": "markdown",
   "metadata": {},
   "source": [
    "### 4. Building the scoring model"
   ]
  },
  {
   "cell_type": "markdown",
   "metadata": {},
   "source": [
    "**Univariate selection of quantitative variables**\n",
    "\n",
    "\n",
    "Here we make a first selection of variables. We start by analyzing the relationship between each quantitative variable and the response variable CIBLE by using statistical test on the difference of means. We will remove the variable if the test is not statistically significant. Below we show only the variables where the test is not significant.\n"
   ]
  },
  {
   "cell_type": "code",
   "execution_count": 64,
   "metadata": {},
   "outputs": [
    {
     "name": "stdout",
     "output_type": "stream",
     "text": [
      "F_score: 0.04 et P-value == 0.838 --- for the variable NB_PAIEMENT_CARTE \n",
      "F_score: 0.03 et P-value == 0.865 --- for the variable Diff_SF_LivB \n",
      "F_score: 0.30 et P-value == 0.582 --- for the variable Diff_SF_LDD \n",
      "F_score: 0.11 et P-value == 0.743 --- for the variable Diff_SF_LEP \n"
     ]
    }
   ],
   "source": [
    "from sklearn.feature_selection import SelectPercentile\n",
    "from sklearn.feature_selection import f_classif\n",
    "Selector_f = SelectPercentile(f_classif, percentile=100)\n",
    "Selector_f.fit(X.select_dtypes(np.number),y)\n",
    "for n,s,p in zip(X.select_dtypes(np.number).columns,Selector_f.scores_, Selector_f.pvalues_):\n",
    "    if (p>=0.05):\n",
    "        print ('F_score: %3.2f et P-value == %0.3f --- for the variable %s ' % (s,p,n))"
   ]
  },
  {
   "cell_type": "code",
   "execution_count": 65,
   "metadata": {},
   "outputs": [],
   "source": [
    "# removing these variables:\n",
    "X.drop(['ANC','NB_PAIEMENT_CARTE', 'MT_PAIEMENT_CARTE','Diff_LVA_LEP', 'Diff_LVB_LEP'],axis=1,inplace=True)\n",
    "X_test.drop(['ANC','NB_PAIEMENT_CARTE', 'MT_PAIEMENT_CARTE','Diff_LVA_LEP', 'Diff_LVB_LEP'],axis=1,inplace=True)"
   ]
  },
  {
   "cell_type": "markdown",
   "metadata": {},
   "source": [
    "**Univariate selection of qualitative variables**\n",
    "\n",
    "\n",
    "We do the same for the qualitative variables, but using chi-square test this time."
   ]
  },
  {
   "cell_type": "code",
   "execution_count": 66,
   "metadata": {},
   "outputs": [
    {
     "name": "stdout",
     "output_type": "stream",
     "text": [
      "Chi-deux: 1.29 et P-value == 0.257 --- pour la variable FLAG_VISA1 \n",
      "Chi-deux: 1.85 et P-value == 0.173 --- pour la variable FLAG_LVA \n",
      "Chi-deux: 2.29 et P-value == 0.130 --- pour la variable FLAG_LVB \n"
     ]
    }
   ],
   "source": [
    "from sklearn.feature_selection import SelectPercentile\n",
    "from sklearn.feature_selection import chi2\n",
    "Selector_c = SelectPercentile(chi2, percentile=100)\n",
    "Selector_c.fit(X.select_dtypes('category').fillna(0),y)\n",
    "for n,s,p in zip(X.select_dtypes('category').columns,Selector_c.scores_, Selector_c.pvalues_):\n",
    "    if (p>0.05):\n",
    "        print ('Chi-deux: %3.2f et P-value == %0.3f --- pour la variable %s ' % (s,p,n))\n",
    "\n"
   ]
  },
  {
   "cell_type": "code",
   "execution_count": 67,
   "metadata": {},
   "outputs": [],
   "source": [
    "X.drop(['FLAG_LVA','FLAG_VISA1','FLAG_LVB'],axis=1,inplace=True)\n",
    "X_test.drop(['FLAG_LVA','FLAG_VISA1','FLAG_LVB'],axis=1,inplace=True)"
   ]
  },
  {
   "cell_type": "markdown",
   "metadata": {},
   "source": [
    "**Selecting variables from a recursive feature elimination**\n",
    "\n",
    "Here we try a recursive feature elimination method  to select variables. We use a random forest model for the process.\n"
   ]
  },
  {
   "cell_type": "code",
   "execution_count": 68,
   "metadata": {},
   "outputs": [
    {
     "data": {
      "image/png": "[encoded data removed]",
      "text/plain": [
       "<Figure size 720x432 with 1 Axes>"
      ]
     },
     "metadata": {},
     "output_type": "display_data"
    },
    {
     "data": {
      "text/plain": [
       "<AxesSubplot:title={'center':'RFECV for ExtraTreesClassifier'}, xlabel='Number of Features Selected', ylabel='Score'>"
      ]
     },
     "execution_count": 68,
     "metadata": {},
     "output_type": "execute_result"
    }
   ],
   "source": [
    "from sklearn.linear_model import LogisticRegression\n",
    "from yellowbrick.model_selection import RFECV\n",
    "from sklearn.model_selection import StratifiedKFold\n",
    "from sklearn.model_selection import StratifiedShuffleSplit\n",
    "cv = StratifiedShuffleSplit(3,random_state=2018)\n",
    "visualizer = RFECV(ExtraTreesClassifier(n_estimators=50),n_jobs=-1,cv=cv,step=5,scoring='average_precision')\n",
    "visualizer.fit(X.fillna(0), y)\n",
    "visualizer.show()"
   ]
  },
  {
   "cell_type": "markdown",
   "metadata": {},
   "source": [
    "The graph shows us the score obtained for the average precision for each number of variables retained. The choice of the average precision is made on the basis that we are in a case of unbalanced data and that we seek to have a precise focus on class 1. The higher the average precision, the more the true 1s predicted by the models are at the level of the highest scores. If the model returns a lot of false positives before returning true positives, the average precision will be much lower.\n",
    "\n",
    "\n",
    "The graph suggests that we choose 66 variables out of nearly 70 variables.It is too many variables. It can be seen from the graph that a very good average precision score is obtained for 15 variables. We will therefore move forward with 15 variables. We will use the property of decision trees with respect to the importance of variables to extract the most useful variables.\n",
    "\n",
    "\n",
    "\n"
   ]
  },
  {
   "cell_type": "code",
   "execution_count": 69,
   "metadata": {},
   "outputs": [],
   "source": [
    "# here we execute the random forest model to determine the most important variables:\n",
    "X = X.fillna(0)\n",
    "rf =ExtraTreesClassifier(n_estimators=100).fit(X,y)\n",
    "\n"
   ]
  },
  {
   "cell_type": "code",
   "execution_count": 70,
   "metadata": {},
   "outputs": [
    {
     "data": {
      "text/html": [
       "<div>\n",
       "<style scoped>\n",
       "    .dataframe tbody tr th:only-of-type {\n",
       "        vertical-align: middle;\n",
       "    }\n",
       "\n",
       "    .dataframe tbody tr th {\n",
       "        vertical-align: top;\n",
       "    }\n",
       "\n",
       "    .dataframe thead th {\n",
       "        text-align: right;\n",
       "    }\n",
       "</style>\n",
       "<table border=\"1\" class=\"dataframe\">\n",
       "  <thead>\n",
       "    <tr style=\"text-align: right;\">\n",
       "      <th></th>\n",
       "      <th>NB_PRODUITS</th>\n",
       "      <th>D_NB_PRODUITS_1</th>\n",
       "      <th>SF_HORS_CDD</th>\n",
       "      <th>MOY_NB_MVT_CDD_12M</th>\n",
       "      <th>MOY_MVT_CRE_CDD_12M</th>\n",
       "      <th>SF_TOT</th>\n",
       "      <th>MOY_MOY_NB_MVT_CDD_12M_ANC</th>\n",
       "      <th>NB_PEI</th>\n",
       "      <th>MOY_MVT_DEB_CDD_12M</th>\n",
       "      <th>ANC_DER_MVT</th>\n",
       "      <th>SF_HORS_CDD_M6</th>\n",
       "      <th>SF_TOT_M6</th>\n",
       "      <th>AGE</th>\n",
       "      <th>MT_EP_DISPO</th>\n",
       "      <th>Moy_SF_TOT/Prod</th>\n",
       "      <th>SF_LVA</th>\n",
       "      <th>SF_LVA_M6</th>\n",
       "      <th>MOY_MT_EP_DISPO_ANC</th>\n",
       "      <th>MOY_SF_TOT_ANC</th>\n",
       "      <th>MOY_SF_HORS_CDD_ANC</th>\n",
       "      <th>Diff_SF_LivA</th>\n",
       "      <th>Diff_SF_TOT</th>\n",
       "      <th>FLAG_CDD</th>\n",
       "      <th>Diff_SF_HORS_CDD</th>\n",
       "      <th>SF_CDD</th>\n",
       "      <th>SF_CDD_M6</th>\n",
       "      <th>Diff_SF_CDD</th>\n",
       "      <th>Diff_Mvt_Moy</th>\n",
       "      <th>D_SF_TOT_1</th>\n",
       "      <th>SF_LEP_M6</th>\n",
       "      <th>SF_LEP</th>\n",
       "      <th>D_SF_HORS_CDD_1</th>\n",
       "      <th>D_MOY_MT_EP_DISPO_ANC_1</th>\n",
       "      <th>SF_LDD</th>\n",
       "      <th>SF_LDD_M6</th>\n",
       "      <th>SF_ASV</th>\n",
       "      <th>SF_ASV_M6</th>\n",
       "      <th>Diff_SF_LEP</th>\n",
       "      <th>FLAG_LDD</th>\n",
       "      <th>FLAG_LEP</th>\n",
       "      <th>FLAG_CTO</th>\n",
       "      <th>Diff_SF_LDD</th>\n",
       "      <th>FLAG_ASV</th>\n",
       "      <th>SF_CTO</th>\n",
       "      <th>FLAG_IMMO</th>\n",
       "      <th>SF_CTO_M6</th>\n",
       "      <th>FLAG_PEA</th>\n",
       "      <th>Diff_SF_CTO</th>\n",
       "      <th>FLAG_CBI</th>\n",
       "      <th>Diff_LVA_LVB</th>\n",
       "      <th>SF_PEL</th>\n",
       "      <th>SF_LVB</th>\n",
       "      <th>SF_PEL_M6</th>\n",
       "      <th>FLAG_PEL</th>\n",
       "      <th>SF_LVB_M6</th>\n",
       "      <th>Diff_SF_LivB</th>\n",
       "      <th>Diff_SF_PEL</th>\n",
       "      <th>FLAG_CONSO</th>\n",
       "      <th>FLAG_REVOLVING</th>\n",
       "    </tr>\n",
       "  </thead>\n",
       "  <tbody>\n",
       "    <tr>\n",
       "      <th>0</th>\n",
       "      <td>0.128047</td>\n",
       "      <td>0.040827</td>\n",
       "      <td>0.038698</td>\n",
       "      <td>0.037908</td>\n",
       "      <td>0.036843</td>\n",
       "      <td>0.035764</td>\n",
       "      <td>0.032571</td>\n",
       "      <td>0.031081</td>\n",
       "      <td>0.030679</td>\n",
       "      <td>0.03017</td>\n",
       "      <td>0.029347</td>\n",
       "      <td>0.029097</td>\n",
       "      <td>0.027884</td>\n",
       "      <td>0.026765</td>\n",
       "      <td>0.025111</td>\n",
       "      <td>0.024864</td>\n",
       "      <td>0.023135</td>\n",
       "      <td>0.021312</td>\n",
       "      <td>0.020424</td>\n",
       "      <td>0.020397</td>\n",
       "      <td>0.019256</td>\n",
       "      <td>0.019212</td>\n",
       "      <td>0.019082</td>\n",
       "      <td>0.018846</td>\n",
       "      <td>0.017052</td>\n",
       "      <td>0.01661</td>\n",
       "      <td>0.015092</td>\n",
       "      <td>0.014775</td>\n",
       "      <td>0.013862</td>\n",
       "      <td>0.010572</td>\n",
       "      <td>0.010174</td>\n",
       "      <td>0.009911</td>\n",
       "      <td>0.009445</td>\n",
       "      <td>0.008295</td>\n",
       "      <td>0.008161</td>\n",
       "      <td>0.008156</td>\n",
       "      <td>0.006971</td>\n",
       "      <td>0.006856</td>\n",
       "      <td>0.006845</td>\n",
       "      <td>0.006661</td>\n",
       "      <td>0.006148</td>\n",
       "      <td>0.00592</td>\n",
       "      <td>0.005515</td>\n",
       "      <td>0.004822</td>\n",
       "      <td>0.004801</td>\n",
       "      <td>0.004692</td>\n",
       "      <td>0.004189</td>\n",
       "      <td>0.003804</td>\n",
       "      <td>0.003444</td>\n",
       "      <td>0.002563</td>\n",
       "      <td>0.00236</td>\n",
       "      <td>0.002176</td>\n",
       "      <td>0.002127</td>\n",
       "      <td>0.002096</td>\n",
       "      <td>0.001993</td>\n",
       "      <td>0.001982</td>\n",
       "      <td>0.001735</td>\n",
       "      <td>0.001694</td>\n",
       "      <td>0.001182</td>\n",
       "    </tr>\n",
       "  </tbody>\n",
       "</table>\n",
       "</div>"
      ],
      "text/plain": [
       "   NB_PRODUITS  D_NB_PRODUITS_1  SF_HORS_CDD  MOY_NB_MVT_CDD_12M  \\\n",
       "0     0.128047         0.040827     0.038698            0.037908   \n",
       "\n",
       "   MOY_MVT_CRE_CDD_12M    SF_TOT  MOY_MOY_NB_MVT_CDD_12M_ANC    NB_PEI  \\\n",
       "0             0.036843  0.035764                    0.032571  0.031081   \n",
       "\n",
       "   MOY_MVT_DEB_CDD_12M  ANC_DER_MVT  SF_HORS_CDD_M6  SF_TOT_M6       AGE  \\\n",
       "0             0.030679      0.03017        0.029347   0.029097  0.027884   \n",
       "\n",
       "   MT_EP_DISPO  Moy_SF_TOT/Prod    SF_LVA  SF_LVA_M6  MOY_MT_EP_DISPO_ANC  \\\n",
       "0     0.026765         0.025111  0.024864   0.023135             0.021312   \n",
       "\n",
       "   MOY_SF_TOT_ANC  MOY_SF_HORS_CDD_ANC  Diff_SF_LivA  Diff_SF_TOT  FLAG_CDD  \\\n",
       "0        0.020424             0.020397      0.019256     0.019212  0.019082   \n",
       "\n",
       "   Diff_SF_HORS_CDD    SF_CDD  SF_CDD_M6  Diff_SF_CDD  Diff_Mvt_Moy  \\\n",
       "0          0.018846  0.017052    0.01661     0.015092      0.014775   \n",
       "\n",
       "   D_SF_TOT_1  SF_LEP_M6    SF_LEP  D_SF_HORS_CDD_1  D_MOY_MT_EP_DISPO_ANC_1  \\\n",
       "0    0.013862   0.010572  0.010174         0.009911                 0.009445   \n",
       "\n",
       "     SF_LDD  SF_LDD_M6    SF_ASV  SF_ASV_M6  Diff_SF_LEP  FLAG_LDD  FLAG_LEP  \\\n",
       "0  0.008295   0.008161  0.008156   0.006971     0.006856  0.006845  0.006661   \n",
       "\n",
       "   FLAG_CTO  Diff_SF_LDD  FLAG_ASV    SF_CTO  FLAG_IMMO  SF_CTO_M6  FLAG_PEA  \\\n",
       "0  0.006148      0.00592  0.005515  0.004822   0.004801   0.004692  0.004189   \n",
       "\n",
       "   Diff_SF_CTO  FLAG_CBI  Diff_LVA_LVB   SF_PEL    SF_LVB  SF_PEL_M6  \\\n",
       "0     0.003804  0.003444      0.002563  0.00236  0.002176   0.002127   \n",
       "\n",
       "   FLAG_PEL  SF_LVB_M6  Diff_SF_LivB  Diff_SF_PEL  FLAG_CONSO  FLAG_REVOLVING  \n",
       "0  0.002096   0.001993      0.001982     0.001735    0.001694        0.001182  "
      ]
     },
     "execution_count": 70,
     "metadata": {},
     "output_type": "execute_result"
    }
   ],
   "source": [
    "feature_imp = pd.Series(rf.feature_importances_,index=X.columns).sort_values(ascending=False)\n",
    "pd.DataFrame(feature_imp).transpose()"
   ]
  },
  {
   "cell_type": "code",
   "execution_count": 71,
   "metadata": {},
   "outputs": [
    {
     "data": {
      "text/plain": [
       "<AxesSubplot:>"
      ]
     },
     "execution_count": 71,
     "metadata": {},
     "output_type": "execute_result"
    },
    {
     "data": {
      "image/png": "[encoded data removed]",
      "text/plain": [
       "<Figure size 720x432 with 1 Axes>"
      ]
     },
     "metadata": {},
     "output_type": "display_data"
    }
   ],
   "source": [
    "pd.DataFrame(feature_imp).plot()"
   ]
  },
  {
   "cell_type": "markdown",
   "metadata": {},
   "source": [
    "We have here in the figure the most important to the least important variables.Consider the variables with a score greater than 0.017267"
   ]
  },
  {
   "cell_type": "code",
   "execution_count": 72,
   "metadata": {},
   "outputs": [
    {
     "data": {
      "text/html": [
       "<div>\n",
       "<style scoped>\n",
       "    .dataframe tbody tr th:only-of-type {\n",
       "        vertical-align: middle;\n",
       "    }\n",
       "\n",
       "    .dataframe tbody tr th {\n",
       "        vertical-align: top;\n",
       "    }\n",
       "\n",
       "    .dataframe thead th {\n",
       "        text-align: right;\n",
       "    }\n",
       "</style>\n",
       "<table border=\"1\" class=\"dataframe\">\n",
       "  <thead>\n",
       "    <tr style=\"text-align: right;\">\n",
       "      <th></th>\n",
       "      <th>NB_PRODUITS</th>\n",
       "      <th>D_NB_PRODUITS_1</th>\n",
       "      <th>SF_HORS_CDD</th>\n",
       "      <th>MOY_NB_MVT_CDD_12M</th>\n",
       "      <th>MOY_MVT_CRE_CDD_12M</th>\n",
       "      <th>SF_TOT</th>\n",
       "      <th>MOY_MOY_NB_MVT_CDD_12M_ANC</th>\n",
       "      <th>NB_PEI</th>\n",
       "      <th>MOY_MVT_DEB_CDD_12M</th>\n",
       "      <th>ANC_DER_MVT</th>\n",
       "      <th>SF_HORS_CDD_M6</th>\n",
       "      <th>SF_TOT_M6</th>\n",
       "      <th>AGE</th>\n",
       "      <th>MT_EP_DISPO</th>\n",
       "      <th>Moy_SF_TOT/Prod</th>\n",
       "      <th>SF_LVA</th>\n",
       "      <th>SF_LVA_M6</th>\n",
       "      <th>MOY_MT_EP_DISPO_ANC</th>\n",
       "      <th>MOY_SF_TOT_ANC</th>\n",
       "      <th>MOY_SF_HORS_CDD_ANC</th>\n",
       "      <th>Diff_SF_LivA</th>\n",
       "      <th>Diff_SF_TOT</th>\n",
       "      <th>FLAG_CDD</th>\n",
       "      <th>Diff_SF_HORS_CDD</th>\n",
       "    </tr>\n",
       "  </thead>\n",
       "  <tbody>\n",
       "    <tr>\n",
       "      <th>0</th>\n",
       "      <td>0.128047</td>\n",
       "      <td>0.040827</td>\n",
       "      <td>0.038698</td>\n",
       "      <td>0.037908</td>\n",
       "      <td>0.036843</td>\n",
       "      <td>0.035764</td>\n",
       "      <td>0.032571</td>\n",
       "      <td>0.031081</td>\n",
       "      <td>0.030679</td>\n",
       "      <td>0.03017</td>\n",
       "      <td>0.029347</td>\n",
       "      <td>0.029097</td>\n",
       "      <td>0.027884</td>\n",
       "      <td>0.026765</td>\n",
       "      <td>0.025111</td>\n",
       "      <td>0.024864</td>\n",
       "      <td>0.023135</td>\n",
       "      <td>0.021312</td>\n",
       "      <td>0.020424</td>\n",
       "      <td>0.020397</td>\n",
       "      <td>0.019256</td>\n",
       "      <td>0.019212</td>\n",
       "      <td>0.019082</td>\n",
       "      <td>0.018846</td>\n",
       "    </tr>\n",
       "  </tbody>\n",
       "</table>\n",
       "</div>"
      ],
      "text/plain": [
       "   NB_PRODUITS  D_NB_PRODUITS_1  SF_HORS_CDD  MOY_NB_MVT_CDD_12M  \\\n",
       "0     0.128047         0.040827     0.038698            0.037908   \n",
       "\n",
       "   MOY_MVT_CRE_CDD_12M    SF_TOT  MOY_MOY_NB_MVT_CDD_12M_ANC    NB_PEI  \\\n",
       "0             0.036843  0.035764                    0.032571  0.031081   \n",
       "\n",
       "   MOY_MVT_DEB_CDD_12M  ANC_DER_MVT  SF_HORS_CDD_M6  SF_TOT_M6       AGE  \\\n",
       "0             0.030679      0.03017        0.029347   0.029097  0.027884   \n",
       "\n",
       "   MT_EP_DISPO  Moy_SF_TOT/Prod    SF_LVA  SF_LVA_M6  MOY_MT_EP_DISPO_ANC  \\\n",
       "0     0.026765         0.025111  0.024864   0.023135             0.021312   \n",
       "\n",
       "   MOY_SF_TOT_ANC  MOY_SF_HORS_CDD_ANC  Diff_SF_LivA  Diff_SF_TOT  FLAG_CDD  \\\n",
       "0        0.020424             0.020397      0.019256     0.019212  0.019082   \n",
       "\n",
       "   Diff_SF_HORS_CDD  \n",
       "0          0.018846  "
      ]
     },
     "execution_count": 72,
     "metadata": {},
     "output_type": "execute_result"
    }
   ],
   "source": [
    "pd.DataFrame(feature_imp[feature_imp > 0.017267]).transpose()"
   ]
  },
  {
   "cell_type": "code",
   "execution_count": 73,
   "metadata": {},
   "outputs": [
    {
     "data": {
      "text/plain": [
       "Index(['NB_PRODUITS', 'D_NB_PRODUITS_1', 'SF_HORS_CDD', 'MOY_NB_MVT_CDD_12M',\n",
       "       'MOY_MVT_CRE_CDD_12M', 'SF_TOT', 'MOY_MOY_NB_MVT_CDD_12M_ANC', 'NB_PEI',\n",
       "       'MOY_MVT_DEB_CDD_12M', 'ANC_DER_MVT', 'SF_HORS_CDD_M6', 'SF_TOT_M6',\n",
       "       'AGE', 'MT_EP_DISPO', 'Moy_SF_TOT/Prod', 'SF_LVA', 'SF_LVA_M6',\n",
       "       'MOY_MT_EP_DISPO_ANC', 'MOY_SF_TOT_ANC', 'MOY_SF_HORS_CDD_ANC',\n",
       "       'Diff_SF_LivA', 'Diff_SF_TOT', 'FLAG_CDD', 'Diff_SF_HORS_CDD'],\n",
       "      dtype='object')"
      ]
     },
     "execution_count": 73,
     "metadata": {},
     "output_type": "execute_result"
    }
   ],
   "source": [
    "pd.DataFrame(feature_imp[feature_imp > 0.017267]).index"
   ]
  },
  {
   "cell_type": "code",
   "execution_count": 74,
   "metadata": {},
   "outputs": [],
   "source": [
    "# removing these variables: 'SF_TOT_M6', 'D_NB_PRODUITS_1','SF_HORS_CDD_M6',\n",
    "X_tr = X[['NB_PRODUITS', 'MOY_NB_MVT_CDD_12M', 'SF_TOT',\n",
    "       'ANC_DER_MVT', 'MOY_MOY_NB_MVT_CDD_12M_ANC', 'SF_HORS_CDD',\n",
    "       'NB_PEI', 'MOY_MVT_CRE_CDD_12M',  'AGE',\n",
    "       'MOY_MVT_DEB_CDD_12M', 'SF_LVA', 'Moy_SF_TOT/Prod', 'MT_EP_DISPO',\n",
    "       'SF_LVA_M6', 'MOY_MT_EP_DISPO_ANC', 'MOY_SF_HORS_CDD_ANC',\n",
    "       'MOY_SF_TOT_ANC', 'FLAG_CDD', 'Diff_SF_TOT', 'Diff_SF_LivA',\n",
    "       'Diff_SF_HORS_CDD']]\n",
    "\n",
    "X_te = X_test[['NB_PRODUITS', 'MOY_NB_MVT_CDD_12M', 'SF_TOT',\n",
    "       'ANC_DER_MVT', 'MOY_MOY_NB_MVT_CDD_12M_ANC', 'SF_HORS_CDD',\n",
    "       'NB_PEI', 'MOY_MVT_CRE_CDD_12M',  'AGE',\n",
    "       'MOY_MVT_DEB_CDD_12M', 'SF_LVA', 'Moy_SF_TOT/Prod', 'MT_EP_DISPO',\n",
    "       'SF_LVA_M6', 'MOY_MT_EP_DISPO_ANC', 'MOY_SF_HORS_CDD_ANC',\n",
    "       'MOY_SF_TOT_ANC', 'FLAG_CDD', 'Diff_SF_TOT', 'Diff_SF_LivA',\n",
    "       'Diff_SF_HORS_CDD']]"
   ]
  },
  {
   "cell_type": "markdown",
   "metadata": {},
   "source": [
    "The variables are displayed in the order of their link with the dependent variable. If a quantitative variable is present as well as its discretized version, we eliminate the one that comes after. If a variable of the type \"6 months ago\" as well as its version for the current month are present, we remove the one which comes after in the list.\n",
    "\n",
    "\n",
    "Let's see if there are other correlations that we might have missed."
   ]
  },
  {
   "cell_type": "code",
   "execution_count": 75,
   "metadata": {},
   "outputs": [
    {
     "data": {
      "image/png": "[encoded data removed]",
      "text/plain": [
       "<Figure size 960x960 with 2 Axes>"
      ]
     },
     "metadata": {},
     "output_type": "display_data"
    }
   ],
   "source": [
    "plt.figure(num=None, figsize=(12, 12), dpi=80, facecolor='w', edgecolor='k')\n",
    "\n",
    "corr2 = X[['NB_PRODUITS', 'MOY_NB_MVT_CDD_12M', 'SF_TOT',\n",
    "       'ANC_DER_MVT', 'MOY_MOY_NB_MVT_CDD_12M_ANC', 'SF_HORS_CDD',\n",
    "       'NB_PEI', 'MOY_MVT_CRE_CDD_12M',  'AGE',\n",
    "       'MOY_MVT_DEB_CDD_12M', 'SF_LVA', 'Moy_SF_TOT/Prod', 'MT_EP_DISPO',\n",
    "       'SF_LVA_M6', 'MOY_MT_EP_DISPO_ANC', 'MOY_SF_HORS_CDD_ANC',\n",
    "       'MOY_SF_TOT_ANC', 'FLAG_CDD', 'Diff_SF_TOT', 'Diff_SF_LivA',\n",
    "       'Diff_SF_HORS_CDD']].corr()\n",
    "\n",
    "sns.heatmap(corr2, annot=True, fmt=\".2g\")\n",
    "plt.show()\n",
    "\n"
   ]
  },
  {
   "cell_type": "markdown",
   "metadata": {},
   "source": [
    "From the figure above, we have identify some high correlations. Precisely, we see that: \n",
    "\n",
    "* SF_TOT,  Moy_SF_TOT/Prod and SF_HORS_CDD are highly correlated (Correlation greater than 0.9)\n",
    "* MOY_MVT_CRE_CDD_12M and MOY_MVT_DEB_CDD_12M are highly correlated (Correlation greater than 0.9)\n",
    "* SF_LVA and SF_LVA_M6 are highly correlated (Correlation greater than 0.9)\n",
    "* Diff_SF_TOT and Diff_SF_HORS_CDDare highly correlated (Correlation greater than 0.9)\n",
    "\n",
    "So in each case, we remove the one having the least importance according to the list above. \n",
    "\n",
    "Here are the variables we kept:"
   ]
  },
  {
   "cell_type": "code",
   "execution_count": 76,
   "metadata": {},
   "outputs": [
    {
     "data": {
      "text/plain": [
       "['NB_PRODUITS',\n",
       " 'MOY_NB_MVT_CDD_12M',\n",
       " 'SF_TOT',\n",
       " 'ANC_DER_MVT',\n",
       " 'MOY_MOY_NB_MVT_CDD_12M_ANC',\n",
       " 'NB_PEI',\n",
       " 'MOY_MVT_CRE_CDD_12M',\n",
       " 'AGE',\n",
       " 'SF_LVA',\n",
       " 'MT_EP_DISPO',\n",
       " 'MOY_MT_EP_DISPO_ANC',\n",
       " 'MOY_SF_HORS_CDD_ANC',\n",
       " 'MOY_SF_TOT_ANC',\n",
       " 'FLAG_CDD',\n",
       " 'Diff_SF_TOT',\n",
       " 'Diff_SF_LivA']"
      ]
     },
     "execution_count": 76,
     "metadata": {},
     "output_type": "execute_result"
    }
   ],
   "source": [
    "cols_15 = ['NB_PRODUITS', 'MOY_NB_MVT_CDD_12M', 'SF_TOT',\n",
    "       'ANC_DER_MVT', 'MOY_MOY_NB_MVT_CDD_12M_ANC',\n",
    "       'NB_PEI', 'MOY_MVT_CRE_CDD_12M',  'AGE',\n",
    "       'SF_LVA', 'MT_EP_DISPO',\n",
    "       'MOY_MT_EP_DISPO_ANC', 'MOY_SF_HORS_CDD_ANC',\n",
    "       'MOY_SF_TOT_ANC', 'FLAG_CDD', 'Diff_SF_TOT', 'Diff_SF_LivA']\n",
    "\n",
    "\n",
    "cols_15"
   ]
  },
  {
   "cell_type": "code",
   "execution_count": 77,
   "metadata": {},
   "outputs": [],
   "source": [
    "X_tr15 = X_tr[cols_15]\n",
    "X_te15 = X_te[cols_15]\n"
   ]
  },
  {
   "cell_type": "markdown",
   "metadata": {},
   "source": [
    "### Testing different models\n",
    "\n",
    "We do the test on our cross-validation learning sample, we return the scores on the K folds and ultimately we choose the model that will provide better results on average on the samples. When this model is retained, it will be applied to the validation sample."
   ]
  },
  {
   "cell_type": "markdown",
   "metadata": {},
   "source": [
    "**Logistic Regression**"
   ]
  },
  {
   "cell_type": "code",
   "execution_count": 78,
   "metadata": {},
   "outputs": [],
   "source": [
    "cv1 = StratifiedKFold(5,shuffle=True)\n",
    "from sklearn.model_selection import cross_validate\n",
    "lg_cv = cross_validate(LogisticRegression(solver='saga'),X=X_tr15,y=y, cv=cv1, return_train_score=True ,scoring=('precision', 'recall', 'f1','average_precision','roc_auc'))\n"
   ]
  },
  {
   "cell_type": "code",
   "execution_count": 79,
   "metadata": {},
   "outputs": [
    {
     "data": {
      "text/html": [
       "<div>\n",
       "<style scoped>\n",
       "    .dataframe tbody tr th:only-of-type {\n",
       "        vertical-align: middle;\n",
       "    }\n",
       "\n",
       "    .dataframe tbody tr th {\n",
       "        vertical-align: top;\n",
       "    }\n",
       "\n",
       "    .dataframe thead th {\n",
       "        text-align: right;\n",
       "    }\n",
       "</style>\n",
       "<table border=\"1\" class=\"dataframe\">\n",
       "  <thead>\n",
       "    <tr style=\"text-align: right;\">\n",
       "      <th></th>\n",
       "      <th>train_precision</th>\n",
       "      <th>test_precision</th>\n",
       "      <th>train_recall</th>\n",
       "      <th>test_recall</th>\n",
       "      <th>train_f1</th>\n",
       "      <th>test_f1</th>\n",
       "      <th>train_average_precision</th>\n",
       "      <th>test_average_precision</th>\n",
       "      <th>train_roc_auc</th>\n",
       "      <th>test_roc_auc</th>\n",
       "    </tr>\n",
       "  </thead>\n",
       "  <tbody>\n",
       "    <tr>\n",
       "      <th>0</th>\n",
       "      <td>0.6157</td>\n",
       "      <td>0.615599</td>\n",
       "      <td>0.85748</td>\n",
       "      <td>0.857381</td>\n",
       "      <td>0.716749</td>\n",
       "      <td>0.716639</td>\n",
       "      <td>0.706476</td>\n",
       "      <td>0.706294</td>\n",
       "      <td>0.734931</td>\n",
       "      <td>0.734713</td>\n",
       "    </tr>\n",
       "  </tbody>\n",
       "</table>\n",
       "</div>"
      ],
      "text/plain": [
       "   train_precision  test_precision  train_recall  test_recall  train_f1  \\\n",
       "0           0.6157        0.615599       0.85748     0.857381  0.716749   \n",
       "\n",
       "    test_f1  train_average_precision  test_average_precision  train_roc_auc  \\\n",
       "0  0.716639                 0.706476                0.706294       0.734931   \n",
       "\n",
       "   test_roc_auc  \n",
       "0      0.734713  "
      ]
     },
     "execution_count": 79,
     "metadata": {},
     "output_type": "execute_result"
    }
   ],
   "source": [
    "pd.DataFrame(pd.DataFrame(lg_cv)[['train_precision','test_precision',\n",
    "'train_recall','test_recall','train_f1','test_f1','train_average_precision',\n",
    "'test_average_precision','train_roc_auc','test_roc_auc']].mean()).transpose()"
   ]
  },
  {
   "cell_type": "markdown",
   "metadata": {},
   "source": [
    "**KNeighborsClassifier**"
   ]
  },
  {
   "cell_type": "code",
   "execution_count": 80,
   "metadata": {},
   "outputs": [],
   "source": [
    "from sklearn.neighbors import KNeighborsClassifier\n",
    "from sklearn.model_selection import cross_validate\n",
    "knn_cv = cross_validate(KNeighborsClassifier(),X=X_tr15,y=y, cv=StratifiedShuffleSplit(3), n_jobs=-1, return_train_score=True ,scoring=('precision', 'recall', 'f1','average_precision','roc_auc'))\n"
   ]
  },
  {
   "cell_type": "code",
   "execution_count": 81,
   "metadata": {},
   "outputs": [
    {
     "data": {
      "text/html": [
       "<div>\n",
       "<style scoped>\n",
       "    .dataframe tbody tr th:only-of-type {\n",
       "        vertical-align: middle;\n",
       "    }\n",
       "\n",
       "    .dataframe tbody tr th {\n",
       "        vertical-align: top;\n",
       "    }\n",
       "\n",
       "    .dataframe thead th {\n",
       "        text-align: right;\n",
       "    }\n",
       "</style>\n",
       "<table border=\"1\" class=\"dataframe\">\n",
       "  <thead>\n",
       "    <tr style=\"text-align: right;\">\n",
       "      <th></th>\n",
       "      <th>train_precision</th>\n",
       "      <th>test_precision</th>\n",
       "      <th>train_recall</th>\n",
       "      <th>test_recall</th>\n",
       "      <th>train_f1</th>\n",
       "      <th>test_f1</th>\n",
       "      <th>train_average_precision</th>\n",
       "      <th>test_average_precision</th>\n",
       "      <th>train_roc_auc</th>\n",
       "      <th>test_roc_auc</th>\n",
       "    </tr>\n",
       "  </thead>\n",
       "  <tbody>\n",
       "    <tr>\n",
       "      <th>0</th>\n",
       "      <td>0.845438</td>\n",
       "      <td>0.791535</td>\n",
       "      <td>0.958178</td>\n",
       "      <td>0.924851</td>\n",
       "      <td>0.898284</td>\n",
       "      <td>0.853014</td>\n",
       "      <td>0.964587</td>\n",
       "      <td>0.874513</td>\n",
       "      <td>0.973236</td>\n",
       "      <td>0.914611</td>\n",
       "    </tr>\n",
       "  </tbody>\n",
       "</table>\n",
       "</div>"
      ],
      "text/plain": [
       "   train_precision  test_precision  train_recall  test_recall  train_f1  \\\n",
       "0         0.845438        0.791535      0.958178     0.924851  0.898284   \n",
       "\n",
       "    test_f1  train_average_precision  test_average_precision  train_roc_auc  \\\n",
       "0  0.853014                 0.964587                0.874513       0.973236   \n",
       "\n",
       "   test_roc_auc  \n",
       "0      0.914611  "
      ]
     },
     "execution_count": 81,
     "metadata": {},
     "output_type": "execute_result"
    }
   ],
   "source": [
    "pd.DataFrame(pd.DataFrame(knn_cv)[['train_precision','test_precision',\n",
    "'train_recall','test_recall','train_f1','test_f1','train_average_precision',\n",
    "'test_average_precision','train_roc_auc','test_roc_auc']].mean()).transpose()"
   ]
  },
  {
   "cell_type": "markdown",
   "metadata": {},
   "source": [
    "We see that the results of the KNN for a K = 5 by default are better than the logistic regression. The area under the ROC curve averaged 91% on the cross-validation test samples against 73% for the logistic regression. The average precision reaches 87% against 70% for the logistic regression."
   ]
  },
  {
   "cell_type": "markdown",
   "metadata": {},
   "source": [
    "**Linear Discriminant Analysis (LDA)**"
   ]
  },
  {
   "cell_type": "code",
   "execution_count": 82,
   "metadata": {},
   "outputs": [],
   "source": [
    "from sklearn.discriminant_analysis import LinearDiscriminantAnalysis\n",
    "ld_cv=cross_validate(LinearDiscriminantAnalysis(solver='svd'),X=X_tr15,y=y, cv=StratifiedShuffleSplit(3),n_jobs=-1, return_train_score=True ,scoring=('precision', 'recall', 'f1','average_precision','roc_auc'))"
   ]
  },
  {
   "cell_type": "code",
   "execution_count": 83,
   "metadata": {},
   "outputs": [
    {
     "data": {
      "text/html": [
       "<div>\n",
       "<style scoped>\n",
       "    .dataframe tbody tr th:only-of-type {\n",
       "        vertical-align: middle;\n",
       "    }\n",
       "\n",
       "    .dataframe tbody tr th {\n",
       "        vertical-align: top;\n",
       "    }\n",
       "\n",
       "    .dataframe thead th {\n",
       "        text-align: right;\n",
       "    }\n",
       "</style>\n",
       "<table border=\"1\" class=\"dataframe\">\n",
       "  <thead>\n",
       "    <tr style=\"text-align: right;\">\n",
       "      <th></th>\n",
       "      <th>train_precision</th>\n",
       "      <th>test_precision</th>\n",
       "      <th>train_recall</th>\n",
       "      <th>test_recall</th>\n",
       "      <th>train_f1</th>\n",
       "      <th>test_f1</th>\n",
       "      <th>train_average_precision</th>\n",
       "      <th>test_average_precision</th>\n",
       "      <th>train_roc_auc</th>\n",
       "      <th>test_roc_auc</th>\n",
       "    </tr>\n",
       "  </thead>\n",
       "  <tbody>\n",
       "    <tr>\n",
       "      <th>0</th>\n",
       "      <td>0.750872</td>\n",
       "      <td>0.754734</td>\n",
       "      <td>0.717335</td>\n",
       "      <td>0.71448</td>\n",
       "      <td>0.733721</td>\n",
       "      <td>0.734044</td>\n",
       "      <td>0.770878</td>\n",
       "      <td>0.771099</td>\n",
       "      <td>0.810369</td>\n",
       "      <td>0.814194</td>\n",
       "    </tr>\n",
       "  </tbody>\n",
       "</table>\n",
       "</div>"
      ],
      "text/plain": [
       "   train_precision  test_precision  train_recall  test_recall  train_f1  \\\n",
       "0         0.750872        0.754734      0.717335      0.71448  0.733721   \n",
       "\n",
       "    test_f1  train_average_precision  test_average_precision  train_roc_auc  \\\n",
       "0  0.734044                 0.770878                0.771099       0.810369   \n",
       "\n",
       "   test_roc_auc  \n",
       "0      0.814194  "
      ]
     },
     "execution_count": 83,
     "metadata": {},
     "output_type": "execute_result"
    }
   ],
   "source": [
    "pd.DataFrame(pd.DataFrame(ld_cv)[['train_precision','test_precision',\n",
    "'train_recall','test_recall','train_f1','test_f1','train_average_precision',\n",
    "'test_average_precision','train_roc_auc','test_roc_auc']].mean()).transpose()"
   ]
  },
  {
   "cell_type": "markdown",
   "metadata": {},
   "source": [
    "**Quadratic Discriminant Analysis (QDA)**"
   ]
  },
  {
   "cell_type": "code",
   "execution_count": 84,
   "metadata": {},
   "outputs": [],
   "source": [
    "from sklearn.discriminant_analysis import QuadraticDiscriminantAnalysis\n",
    "qd_cv=cross_validate(LinearDiscriminantAnalysis(solver='svd'),X=X_tr15,y=y, cv=StratifiedShuffleSplit(3),n_jobs=-1, return_train_score=True ,scoring=('precision', 'recall', 'f1','average_precision','roc_auc'))"
   ]
  },
  {
   "cell_type": "code",
   "execution_count": 85,
   "metadata": {},
   "outputs": [
    {
     "data": {
      "text/html": [
       "<div>\n",
       "<style scoped>\n",
       "    .dataframe tbody tr th:only-of-type {\n",
       "        vertical-align: middle;\n",
       "    }\n",
       "\n",
       "    .dataframe tbody tr th {\n",
       "        vertical-align: top;\n",
       "    }\n",
       "\n",
       "    .dataframe thead th {\n",
       "        text-align: right;\n",
       "    }\n",
       "</style>\n",
       "<table border=\"1\" class=\"dataframe\">\n",
       "  <thead>\n",
       "    <tr style=\"text-align: right;\">\n",
       "      <th></th>\n",
       "      <th>train_precision</th>\n",
       "      <th>test_precision</th>\n",
       "      <th>train_recall</th>\n",
       "      <th>test_recall</th>\n",
       "      <th>train_f1</th>\n",
       "      <th>test_f1</th>\n",
       "      <th>train_average_precision</th>\n",
       "      <th>test_average_precision</th>\n",
       "      <th>train_roc_auc</th>\n",
       "      <th>test_roc_auc</th>\n",
       "    </tr>\n",
       "  </thead>\n",
       "  <tbody>\n",
       "    <tr>\n",
       "      <th>0</th>\n",
       "      <td>0.751284</td>\n",
       "      <td>0.753356</td>\n",
       "      <td>0.716218</td>\n",
       "      <td>0.726632</td>\n",
       "      <td>0.733332</td>\n",
       "      <td>0.739751</td>\n",
       "      <td>0.770647</td>\n",
       "      <td>0.771235</td>\n",
       "      <td>0.810248</td>\n",
       "      <td>0.813473</td>\n",
       "    </tr>\n",
       "  </tbody>\n",
       "</table>\n",
       "</div>"
      ],
      "text/plain": [
       "   train_precision  test_precision  train_recall  test_recall  train_f1  \\\n",
       "0         0.751284        0.753356      0.716218     0.726632  0.733332   \n",
       "\n",
       "    test_f1  train_average_precision  test_average_precision  train_roc_auc  \\\n",
       "0  0.739751                 0.770647                0.771235       0.810248   \n",
       "\n",
       "   test_roc_auc  \n",
       "0      0.813473  "
      ]
     },
     "execution_count": 85,
     "metadata": {},
     "output_type": "execute_result"
    }
   ],
   "source": [
    "pd.DataFrame(pd.DataFrame(qd_cv)[['train_precision','test_precision',\n",
    "'train_recall','test_recall','train_f1','test_f1','train_average_precision',\n",
    "'test_average_precision','train_roc_auc','test_roc_auc']].mean()).transpose()"
   ]
  },
  {
   "cell_type": "markdown",
   "metadata": {},
   "source": [
    "These results are close to logistic regression and the LDA model."
   ]
  },
  {
   "cell_type": "markdown",
   "metadata": {},
   "source": [
    "**Decision Tree Classifier**\n"
   ]
  },
  {
   "cell_type": "code",
   "execution_count": 86,
   "metadata": {},
   "outputs": [],
   "source": [
    "from sklearn.tree import DecisionTreeClassifier\n",
    "dt_cv=cross_validate(DecisionTreeClassifier(),X=X_tr15,y=y, cv=StratifiedShuffleSplit(3),n_jobs=-1, return_train_score=True ,scoring=('precision', 'recall', 'f1','average_precision','roc_auc'))"
   ]
  },
  {
   "cell_type": "code",
   "execution_count": 87,
   "metadata": {},
   "outputs": [
    {
     "data": {
      "text/html": [
       "<div>\n",
       "<style scoped>\n",
       "    .dataframe tbody tr th:only-of-type {\n",
       "        vertical-align: middle;\n",
       "    }\n",
       "\n",
       "    .dataframe tbody tr th {\n",
       "        vertical-align: top;\n",
       "    }\n",
       "\n",
       "    .dataframe thead th {\n",
       "        text-align: right;\n",
       "    }\n",
       "</style>\n",
       "<table border=\"1\" class=\"dataframe\">\n",
       "  <thead>\n",
       "    <tr style=\"text-align: right;\">\n",
       "      <th></th>\n",
       "      <th>train_precision</th>\n",
       "      <th>test_precision</th>\n",
       "      <th>train_recall</th>\n",
       "      <th>test_recall</th>\n",
       "      <th>train_f1</th>\n",
       "      <th>test_f1</th>\n",
       "      <th>train_average_precision</th>\n",
       "      <th>test_average_precision</th>\n",
       "      <th>train_roc_auc</th>\n",
       "      <th>test_roc_auc</th>\n",
       "    </tr>\n",
       "  </thead>\n",
       "  <tbody>\n",
       "    <tr>\n",
       "      <th>0</th>\n",
       "      <td>1.0</td>\n",
       "      <td>0.89697</td>\n",
       "      <td>0.999936</td>\n",
       "      <td>0.916064</td>\n",
       "      <td>0.999968</td>\n",
       "      <td>0.906377</td>\n",
       "      <td>1.0</td>\n",
       "      <td>0.863689</td>\n",
       "      <td>1.0</td>\n",
       "      <td>0.905455</td>\n",
       "    </tr>\n",
       "  </tbody>\n",
       "</table>\n",
       "</div>"
      ],
      "text/plain": [
       "   train_precision  test_precision  train_recall  test_recall  train_f1  \\\n",
       "0              1.0         0.89697      0.999936     0.916064  0.999968   \n",
       "\n",
       "    test_f1  train_average_precision  test_average_precision  train_roc_auc  \\\n",
       "0  0.906377                      1.0                0.863689            1.0   \n",
       "\n",
       "   test_roc_auc  \n",
       "0      0.905455  "
      ]
     },
     "execution_count": 87,
     "metadata": {},
     "output_type": "execute_result"
    }
   ],
   "source": [
    "pd.DataFrame(pd.DataFrame(dt_cv)[['train_precision','test_precision',\n",
    "'train_recall','test_recall','train_f1','test_f1','train_average_precision',\n",
    "'test_average_precision','train_roc_auc','test_roc_auc']].mean()).transpose()"
   ]
  },
  {
   "cell_type": "markdown",
   "metadata": {},
   "source": [
    "The Decision tree results seem a bit close to KNN results"
   ]
  },
  {
   "cell_type": "markdown",
   "metadata": {},
   "source": [
    "**Gradient Boosting**\n",
    "\n"
   ]
  },
  {
   "cell_type": "code",
   "execution_count": 88,
   "metadata": {},
   "outputs": [],
   "source": [
    "from sklearn.ensemble import GradientBoostingClassifier\n",
    "gb_cv=cross_validate(GradientBoostingClassifier(),X=X_tr15,y=y, cv=StratifiedShuffleSplit(3),n_jobs=-1, return_train_score=True ,scoring=('precision', 'recall', 'f1','average_precision','roc_auc'))"
   ]
  },
  {
   "cell_type": "code",
   "execution_count": 89,
   "metadata": {},
   "outputs": [
    {
     "data": {
      "text/html": [
       "<div>\n",
       "<style scoped>\n",
       "    .dataframe tbody tr th:only-of-type {\n",
       "        vertical-align: middle;\n",
       "    }\n",
       "\n",
       "    .dataframe tbody tr th {\n",
       "        vertical-align: top;\n",
       "    }\n",
       "\n",
       "    .dataframe thead th {\n",
       "        text-align: right;\n",
       "    }\n",
       "</style>\n",
       "<table border=\"1\" class=\"dataframe\">\n",
       "  <thead>\n",
       "    <tr style=\"text-align: right;\">\n",
       "      <th></th>\n",
       "      <th>train_precision</th>\n",
       "      <th>test_precision</th>\n",
       "      <th>train_recall</th>\n",
       "      <th>test_recall</th>\n",
       "      <th>train_f1</th>\n",
       "      <th>test_f1</th>\n",
       "      <th>train_average_precision</th>\n",
       "      <th>test_average_precision</th>\n",
       "      <th>train_roc_auc</th>\n",
       "      <th>test_roc_auc</th>\n",
       "    </tr>\n",
       "  </thead>\n",
       "  <tbody>\n",
       "    <tr>\n",
       "      <th>0</th>\n",
       "      <td>0.904627</td>\n",
       "      <td>0.900036</td>\n",
       "      <td>0.886637</td>\n",
       "      <td>0.87736</td>\n",
       "      <td>0.895541</td>\n",
       "      <td>0.888546</td>\n",
       "      <td>0.970296</td>\n",
       "      <td>0.968822</td>\n",
       "      <td>0.964167</td>\n",
       "      <td>0.963297</td>\n",
       "    </tr>\n",
       "  </tbody>\n",
       "</table>\n",
       "</div>"
      ],
      "text/plain": [
       "   train_precision  test_precision  train_recall  test_recall  train_f1  \\\n",
       "0         0.904627        0.900036      0.886637      0.87736  0.895541   \n",
       "\n",
       "    test_f1  train_average_precision  test_average_precision  train_roc_auc  \\\n",
       "0  0.888546                 0.970296                0.968822       0.964167   \n",
       "\n",
       "   test_roc_auc  \n",
       "0      0.963297  "
      ]
     },
     "execution_count": 89,
     "metadata": {},
     "output_type": "execute_result"
    }
   ],
   "source": [
    "pd.DataFrame(pd.DataFrame(gb_cv)[['train_precision','test_precision',\n",
    "'train_recall','test_recall','train_f1','test_f1','train_average_precision',\n",
    "'test_average_precision','train_roc_auc','test_roc_auc']].mean()).transpose()\n",
    "\n"
   ]
  },
  {
   "cell_type": "markdown",
   "metadata": {},
   "source": [
    "So far the Gradient Boosting results are the best, 96% for the area under the rock curve on average over the cross validation test samples. 96% for average precision."
   ]
  },
  {
   "cell_type": "markdown",
   "metadata": {},
   "source": [
    "**Random Forest**"
   ]
  },
  {
   "cell_type": "code",
   "execution_count": 90,
   "metadata": {},
   "outputs": [],
   "source": [
    "from sklearn.model_selection import cross_validate\n",
    "rf_cv = cross_validate(RandomForestClassifier(n_estimators=100),X=X_tr15,y=y,n_jobs=-1, cv=StratifiedShuffleSplit(3), return_train_score=True ,scoring=('precision', 'recall', 'f1','average_precision','roc_auc'))\n"
   ]
  },
  {
   "cell_type": "code",
   "execution_count": 91,
   "metadata": {},
   "outputs": [
    {
     "data": {
      "text/html": [
       "<div>\n",
       "<style scoped>\n",
       "    .dataframe tbody tr th:only-of-type {\n",
       "        vertical-align: middle;\n",
       "    }\n",
       "\n",
       "    .dataframe tbody tr th {\n",
       "        vertical-align: top;\n",
       "    }\n",
       "\n",
       "    .dataframe thead th {\n",
       "        text-align: right;\n",
       "    }\n",
       "</style>\n",
       "<table border=\"1\" class=\"dataframe\">\n",
       "  <thead>\n",
       "    <tr style=\"text-align: right;\">\n",
       "      <th></th>\n",
       "      <th>train_precision</th>\n",
       "      <th>test_precision</th>\n",
       "      <th>train_recall</th>\n",
       "      <th>test_recall</th>\n",
       "      <th>train_f1</th>\n",
       "      <th>test_f1</th>\n",
       "      <th>train_average_precision</th>\n",
       "      <th>test_average_precision</th>\n",
       "      <th>train_roc_auc</th>\n",
       "      <th>test_roc_auc</th>\n",
       "    </tr>\n",
       "  </thead>\n",
       "  <tbody>\n",
       "    <tr>\n",
       "      <th>0</th>\n",
       "      <td>1.0</td>\n",
       "      <td>0.938247</td>\n",
       "      <td>0.999936</td>\n",
       "      <td>0.938968</td>\n",
       "      <td>0.999968</td>\n",
       "      <td>0.938607</td>\n",
       "      <td>0.999998</td>\n",
       "      <td>0.986742</td>\n",
       "      <td>0.999998</td>\n",
       "      <td>0.984886</td>\n",
       "    </tr>\n",
       "  </tbody>\n",
       "</table>\n",
       "</div>"
      ],
      "text/plain": [
       "   train_precision  test_precision  train_recall  test_recall  train_f1  \\\n",
       "0              1.0        0.938247      0.999936     0.938968  0.999968   \n",
       "\n",
       "    test_f1  train_average_precision  test_average_precision  train_roc_auc  \\\n",
       "0  0.938607                 0.999998                0.986742       0.999998   \n",
       "\n",
       "   test_roc_auc  \n",
       "0      0.984886  "
      ]
     },
     "execution_count": 91,
     "metadata": {},
     "output_type": "execute_result"
    }
   ],
   "source": [
    "pd.DataFrame(pd.DataFrame(rf_cv)[['train_precision','test_precision',\n",
    "'train_recall','test_recall','train_f1','test_f1','train_average_precision',\n",
    "'test_average_precision','train_roc_auc','test_roc_auc']].mean()).transpose()\n",
    "\n"
   ]
  },
  {
   "cell_type": "markdown",
   "metadata": {},
   "source": [
    "The random forest model did better than the gradient boosting, 98% for the area under the rock curve and 98% for the average precision."
   ]
  },
  {
   "cell_type": "markdown",
   "metadata": {},
   "source": [
    "**Extra Randomized Trees**"
   ]
  },
  {
   "cell_type": "code",
   "execution_count": 92,
   "metadata": {},
   "outputs": [],
   "source": [
    "from sklearn.model_selection import cross_validate\n",
    "etc_cv = cross_validate(ExtraTreesClassifier(n_estimators=100),X=X_tr15,y=y,n_jobs=-1, cv=StratifiedShuffleSplit(3), return_train_score=True ,scoring=('precision', 'recall', 'f1','average_precision','roc_auc'))\n",
    "\n"
   ]
  },
  {
   "cell_type": "code",
   "execution_count": 93,
   "metadata": {},
   "outputs": [
    {
     "data": {
      "text/html": [
       "<div>\n",
       "<style scoped>\n",
       "    .dataframe tbody tr th:only-of-type {\n",
       "        vertical-align: middle;\n",
       "    }\n",
       "\n",
       "    .dataframe tbody tr th {\n",
       "        vertical-align: top;\n",
       "    }\n",
       "\n",
       "    .dataframe thead th {\n",
       "        text-align: right;\n",
       "    }\n",
       "</style>\n",
       "<table border=\"1\" class=\"dataframe\">\n",
       "  <thead>\n",
       "    <tr style=\"text-align: right;\">\n",
       "      <th></th>\n",
       "      <th>train_precision</th>\n",
       "      <th>test_precision</th>\n",
       "      <th>train_recall</th>\n",
       "      <th>test_recall</th>\n",
       "      <th>train_f1</th>\n",
       "      <th>test_f1</th>\n",
       "      <th>train_average_precision</th>\n",
       "      <th>test_average_precision</th>\n",
       "      <th>train_roc_auc</th>\n",
       "      <th>test_roc_auc</th>\n",
       "    </tr>\n",
       "  </thead>\n",
       "  <tbody>\n",
       "    <tr>\n",
       "      <th>0</th>\n",
       "      <td>1.0</td>\n",
       "      <td>0.943803</td>\n",
       "      <td>0.999936</td>\n",
       "      <td>0.960893</td>\n",
       "      <td>0.999968</td>\n",
       "      <td>0.952265</td>\n",
       "      <td>1.0</td>\n",
       "      <td>0.991734</td>\n",
       "      <td>1.0</td>\n",
       "      <td>0.990585</td>\n",
       "    </tr>\n",
       "  </tbody>\n",
       "</table>\n",
       "</div>"
      ],
      "text/plain": [
       "   train_precision  test_precision  train_recall  test_recall  train_f1  \\\n",
       "0              1.0        0.943803      0.999936     0.960893  0.999968   \n",
       "\n",
       "    test_f1  train_average_precision  test_average_precision  train_roc_auc  \\\n",
       "0  0.952265                      1.0                0.991734            1.0   \n",
       "\n",
       "   test_roc_auc  \n",
       "0      0.990585  "
      ]
     },
     "execution_count": 93,
     "metadata": {},
     "output_type": "execute_result"
    }
   ],
   "source": [
    "pd.DataFrame(pd.DataFrame(etc_cv)[['train_precision','test_precision',\n",
    "'train_recall','test_recall','train_f1','test_f1','train_average_precision',\n",
    "'test_average_precision','train_roc_auc','test_roc_auc']].mean()).transpose()\n",
    "\n"
   ]
  },
  {
   "cell_type": "markdown",
   "metadata": {},
   "source": [
    "The best model so far seems to be the Extra Randomized Trees, given the results obtained from the cross-validation.\n",
    "\n"
   ]
  },
  {
   "cell_type": "markdown",
   "metadata": {},
   "source": [
    "### Application of the chosen model (validation set)"
   ]
  },
  {
   "cell_type": "code",
   "execution_count": 94,
   "metadata": {},
   "outputs": [
    {
     "name": "stdout",
     "output_type": "stream",
     "text": [
      "              precision    recall  f1-score   support\n",
      "\n",
      "           0       0.98      0.84      0.90     12700\n",
      "           1       0.20      0.65      0.30       764\n",
      "\n",
      "    accuracy                           0.83     13464\n",
      "   macro avg       0.59      0.74      0.60     13464\n",
      "weighted avg       0.93      0.83      0.87     13464\n",
      "\n"
     ]
    }
   ],
   "source": [
    "etcc_cv = ExtraTreesClassifier(n_estimators=100,max_depth=25,min_samples_leaf=15).fit(X=X[cols_15],y=y)\n",
    "print(metrics.classification_report(y_test,etcc_cv.predict(X_te15)))\n"
   ]
  },
  {
   "cell_type": "code",
   "execution_count": 95,
   "metadata": {},
   "outputs": [
    {
     "name": "stdout",
     "output_type": "stream",
     "text": [
      "AUC_Extra Randomized Trees : 0.821\n"
     ]
    }
   ],
   "source": [
    "print('AUC_Extra Randomized Trees : %0.3f'%(metrics.roc_auc_score(y_test,etcc_cv.predict_proba(X_te15)[:,1]),\n",
    "))\n",
    "\n"
   ]
  },
  {
   "cell_type": "code",
   "execution_count": 96,
   "metadata": {},
   "outputs": [
    {
     "data": {
      "text/plain": [
       "<AxesSubplot:title={'center':'Cumulative Gains Curve'}, xlabel='Percentage of sample', ylabel='Gain'>"
      ]
     },
     "execution_count": 96,
     "metadata": {},
     "output_type": "execute_result"
    },
    {
     "data": {
      "image/png": "[encoded data removed]",
      "text/plain": [
       "<Figure size 720x432 with 1 Axes>"
      ]
     },
     "metadata": {},
     "output_type": "display_data"
    }
   ],
   "source": [
    "skplt.metrics.plot_cumulative_gain(y_test,etcc_cv.predict_proba(X_te15))\n",
    "\n"
   ]
  },
  {
   "cell_type": "code",
   "execution_count": 97,
   "metadata": {},
   "outputs": [
    {
     "data": {
      "image/png": "[encoded data removed]",
      "text/plain": [
       "<Figure size 720x432 with 1 Axes>"
      ]
     },
     "metadata": {},
     "output_type": "display_data"
    },
    {
     "data": {
      "image/png": "[encoded data removed]",
      "text/plain": [
       "<Figure size 720x432 with 1 Axes>"
      ]
     },
     "metadata": {},
     "output_type": "display_data"
    }
   ],
   "source": [
    "skplt.metrics.plot_lift_curve(y_test,etcc_cv.predict_proba(X_te15))\n",
    "skplt.metrics.plot_roc(y_test,etcc_cv.predict_proba(X_te15))\n",
    "plt.show()"
   ]
  },
  {
   "cell_type": "markdown",
   "metadata": {},
   "source": [
    "From the cumulative gain figure above, we can see that by taking 20% of the highest scores, we capture more than 60% of customers in segment 1. We are therefore more than three times better than a trivial random model."
   ]
  },
  {
   "cell_type": "markdown",
   "metadata": {},
   "source": [
    "### 5. Conclusion\n",
    "\n",
    "In the end, we have the cumulative gain, lift and ROC curves on the test sample. We can see that the chosen model is interesting. We had a good compromise on the precisionrecall side. Our AUC exceeds 80%, The accuray is 82%. Our lift curve tells us here that we do 3 times better than the random model in the 2nd decile (top 20%), which means that group of 20% of the customers with the highest probability predicted by our algorithm would have around a 60% (3 times the 20% mean) proportion of customers moving in the higher segment. Overall, our model behaves fine on the validation test.\n",
    "\n",
    "\n",
    "In real world project, we would have apply this chosen scoring model to the customer_test dataset to select the 1000 customers with the highest likelyhood to switch over to a higher segment. Then, the bank will contact those 1000 customers to offer some special services in order to convince them to do the switch."
   ]
  },
  {
   "cell_type": "code",
   "execution_count": 98,
   "metadata": {},
   "outputs": [
    {
     "name": "stderr",
     "output_type": "stream",
     "text": [
      "[NbConvertApp] Converting notebook Scoring_bank_customers.ipynb to html\n",
      "[NbConvertApp] Writing 1156487 bytes to Scoring_bank_customers.html\n"
     ]
    }
   ],
   "source": [
    "!jupyter nbconvert --to html Scoring_bank_customers.ipynb\n"
   ]
  },
  {
   "cell_type": "code",
   "execution_count": null,
   "metadata": {},
   "outputs": [],
   "source": []
  }
 ],
 "metadata": {
  "kernelspec": {
   "display_name": "Python 3",
   "language": "python",
   "name": "python3"
  },
  "language_info": {
   "codemirror_mode": {
    "name": "ipython",
    "version": 3
   },
   "file_extension": ".py",
   "mimetype": "text/x-python",
   "name": "python",
   "nbconvert_exporter": "python",
   "pygments_lexer": "ipython3",
   "version": "3.7.0"
  }
 },
 "nbformat": 4,
 "nbformat_minor": 2
}
